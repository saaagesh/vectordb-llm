{
 "cells": [
  {
   "cell_type": "markdown",
   "id": "13829427-399b-4008-9a95-d4a944024124",
   "metadata": {},
   "source": [
    "# Getting Started\n"
   ]
  },
  {
   "cell_type": "code",
   "execution_count": 102,
   "id": "c825dcbd-7473-4435-a17f-54911cb1504c",
   "metadata": {},
   "outputs": [],
   "source": [
    "\n",
    "PROJECT_ID = \"analytics-ml-ai\"  # @param {type:\"string\"}\n",
    "LOCATION = \"us-central1\"  # @param {type:\"string\"}\n",
    "ME_REGION = \"us-central1\"\n",
    "ME_DIMENSIONS = 768 # when using Vertex PaLM Embedding\n",
    "ME_DISPLAY_NAME = \"rfpbot_all_products_stage\"\n",
    "ME_DESCRIPTION = \"rfpbot across all products stage\"\n",
    "ME_EMBEDDING_DIR   = \"gs://rfpbot-stage-me\" # @param {type:\"string\"}\n",
    "DOC_LIMIT = 10 #0 allows for all links to be scraped\n",
    "CHUNK_SIZE = 3500\n",
    "CHUNK_OVERLAP = 100"
   ]
  },
  {
   "cell_type": "code",
   "execution_count": 97,
   "id": "de899e94-0154-43f0-8420-e0bd97059b79",
   "metadata": {},
   "outputs": [
    {
     "name": "stdout",
     "output_type": "stream",
     "text": [
      "Vertex AI SDK version: 1.27.0\n",
      "LangChain version: 0.0.201\n"
     ]
    }
   ],
   "source": [
    "# Utils\n",
    "import uuid\n",
    "import json\n",
    "import time\n",
    "import uuid\n",
    "from typing import List\n",
    "import numpy as np\n",
    "import requests\n",
    "import os\n",
    "\n",
    "\n",
    "# HTML\n",
    "\n",
    "from urllib.parse import urljoin\n",
    "from bs4 import BeautifulSoup\n",
    "\n",
    "# Vertex AI\n",
    "import vertexai\n",
    "from google.cloud import aiplatform\n",
    "print(f\"Vertex AI SDK version: {aiplatform.__version__}\")\n",
    "\n",
    "\n",
    "\n",
    "# Langchain\n",
    "import langchain\n",
    "\n",
    "print(f\"LangChain version: {langchain.__version__}\")\n",
    "\n",
    "from langchain.embeddings import VertexAIEmbeddings\n",
    "from langchain.llms import VertexAI\n",
    "\n",
    "\n",
    "# Import custom Matching Engine packages\n",
    "from utils.matching_engine import MatchingEngine\n",
    "from utils.matching_engine_utils import MatchingEngineUtils\n",
    "\n"
   ]
  },
  {
   "cell_type": "code",
   "execution_count": 50,
   "id": "ec17c216-cdb6-4502-bdb5-4ae23ccd2552",
   "metadata": {},
   "outputs": [],
   "source": [
    "starting_url = 'https://cloud.google.com/'"
   ]
  },
  {
   "cell_type": "code",
   "execution_count": 51,
   "id": "9c670007-6d6e-4655-b1aa-35e1a6b8f69b",
   "metadata": {},
   "outputs": [],
   "source": [
    "def crawl_and_collect_URLS(url):\n",
    "    if url in visited_urls:\n",
    "        return\n",
    "    \n",
    "    visited_urls.add(url)\n",
    "    \n",
    "    if DOC_LIMIT != 0 and len(visited_urls) > DOC_LIMIT:  # This is to limit content for testing, remove for full thing\n",
    "        return\n",
    "    \n",
    "    print(f\"Crawling: {url}\")\n",
    "    \n",
    "    try:\n",
    "        response = requests.get(url)\n",
    "    except Exception as e:\n",
    "        print(f\"Exception {e} on {url}\")\n",
    "\n",
    "    soup = BeautifulSoup(response.text, 'html.parser')\n",
    "\n",
    "    with open('urls.json', 'w') as f:\n",
    "        json.dump(list(visited_urls),f)\n",
    "        \n",
    "    #retrieve_content(url, soup)\n",
    "\n",
    "    links = soup.find_all('a', href=True)\n",
    "    \n",
    "    keep_filters = ['https://cloud.google.com']\n",
    "    drop_filters = ['release-notes',\n",
    "                    'reference',\n",
    "                    'samples',\n",
    "                    '#',\n",
    "                    '?',\n",
    "                    'hybrid', #apigee\n",
    "                    'blog',\n",
    "                    'signin',\n",
    "                    'SignUp',\n",
    "                    'pdf',\n",
    "                    'json',\n",
    "                    'changelog',\n",
    "                    'ex:',\n",
    "                    'find-a-partner',\n",
    "                   ]\n",
    "    kept_links = []\n",
    "    \n",
    "    for link in links:\n",
    "        for f in keep_filters:\n",
    "            if f in link['href']:\n",
    "                kept_links.append(link['href'])\n",
    "        for f in drop_filters:\n",
    "            for l in kept_links:\n",
    "                if f in l:\n",
    "                    kept_links.remove(l)\n",
    "    \n",
    "    for link in kept_links:\n",
    "        absolute_url = urljoin(starting_url, link)\n",
    "        crawl_and_collect_URLS(absolute_url)"
   ]
  },
  {
   "cell_type": "code",
   "execution_count": 52,
   "id": "e9bcd53c-d849-4cf4-9f5f-f23a612c5947",
   "metadata": {},
   "outputs": [
    {
     "name": "stdout",
     "output_type": "stream",
     "text": [
      "Crawling: https://cloud.google.com/\n",
      "Crawling: https://cloud.google.com/why-google-cloud/\n",
      "Crawling: https://cloud.google.com/why-google-cloud\n",
      "Crawling: https://cloud.google.com/ai\n",
      "Crawling: https://cloud.google.com/solutions/\n",
      "Crawling: https://cloud.google.com/multicloud\n",
      "Crawling: https://cloud.google.com/infrastructure\n",
      "Crawling: https://cloud.google.com/data-cloud\n",
      "Crawling: https://cloud.google.com/open-cloud\n",
      "Crawling: https://cloud.google.com/trust-center\n"
     ]
    }
   ],
   "source": [
    "visited_urls = set()\n",
    "crawl_and_collect_URLS(starting_url)"
   ]
  },
  {
   "cell_type": "code",
   "execution_count": 55,
   "id": "e78c9170-985b-43c8-b48d-f8d32ec935d7",
   "metadata": {},
   "outputs": [
    {
     "name": "stdout",
     "output_type": "stream",
     "text": [
      "590\n"
     ]
    }
   ],
   "source": [
    "print(len(visited_urls))"
   ]
  },
  {
   "cell_type": "code",
   "execution_count": 56,
   "id": "f1f1bd78-2981-4b98-80a7-8fff8b5a853c",
   "metadata": {},
   "outputs": [],
   "source": [
    "with open('urls.json') as f:\n",
    "      data = json.load(f)"
   ]
  },
  {
   "cell_type": "code",
   "execution_count": 57,
   "id": "49ce7ff4-c7a7-467e-afbe-449676ac18c9",
   "metadata": {},
   "outputs": [
    {
     "data": {
      "text/plain": [
       "10"
      ]
     },
     "execution_count": 57,
     "metadata": {},
     "output_type": "execute_result"
    }
   ],
   "source": [
    "len(data)"
   ]
  },
  {
   "cell_type": "code",
   "execution_count": 67,
   "id": "c04db3e4-0699-4d6f-a634-09916c6461b2",
   "metadata": {},
   "outputs": [],
   "source": []
  },
  {
   "cell_type": "code",
   "execution_count": 71,
   "id": "caf9ac42-d899-4f27-b430-c34c3eac7cac",
   "metadata": {},
   "outputs": [],
   "source": [
    "def get_content(url):\n",
    "    # if DOC_LIMIT != 0 and len(visited_urls) > DOC_LIMIT:  # This is to limit content for testing, remove for full thing\n",
    "        # return\n",
    "    \n",
    "    filename = '../notebooks/web_text_raw/' + url[8::].replace(\"/\", \"_\") + '.txt'\n",
    "\n",
    "    if os.path.isfile(filename):\n",
    "        return #if we have file, skip writing the rest\n",
    "        \n",
    "    print(f\"Crawling: {url}\")\n",
    "    \n",
    "    try:\n",
    "        response = requests.get(url)\n",
    "    except Exception as e:\n",
    "        print(f\"Exception {e} on {url}\")\n",
    "\n",
    "    soup = BeautifulSoup(response.text, 'html.parser')\n",
    "       \n",
    "    with open(filename, 'w', encoding='utf-8') as f:\n",
    "        #json.dump(soup.get_text(),f)\n",
    "        f.write(str(soup))"
   ]
  },
  {
   "cell_type": "code",
   "execution_count": 72,
   "id": "509d4d96-b712-4d13-9129-8af1fa2cc1f9",
   "metadata": {},
   "outputs": [
    {
     "name": "stdout",
     "output_type": "stream",
     "text": [
      "Crawling: https://cloud.google.com/ai\n",
      "Crawling: https://cloud.google.com/open-cloud\n",
      "Crawling: https://cloud.google.com/why-google-cloud\n",
      "Crawling: https://cloud.google.com/\n",
      "Crawling: https://cloud.google.com/infrastructure\n",
      "Crawling: https://cloud.google.com/trust-center\n",
      "Crawling: https://cloud.google.com/data-cloud\n",
      "Crawling: https://cloud.google.com/why-google-cloud/\n",
      "Crawling: https://cloud.google.com/solutions/\n",
      "Crawling: https://cloud.google.com/multicloud\n",
      "All threads finished\n"
     ]
    }
   ],
   "source": [
    "import threading\n",
    "from concurrent.futures import ThreadPoolExecutor\n",
    "\n",
    "executor = ThreadPoolExecutor(max_workers=10)\n",
    "\n",
    "futures = []\n",
    "for list_item in data:\n",
    "    future = executor.submit(get_content, list_item)\n",
    "    futures.append(future)\n",
    "\n",
    "for future in futures:\n",
    "    future.result()\n",
    "\n",
    "print(\"All threads finished\")"
   ]
  },
  {
   "cell_type": "code",
   "execution_count": 73,
   "id": "645f0576-f163-46f1-9a46-955f15a212ae",
   "metadata": {},
   "outputs": [
    {
     "name": "stdout",
     "output_type": "stream",
     "text": [
      "LangChain version: 0.0.201\n"
     ]
    }
   ],
   "source": [
    "from langchain.docstore.document import Document\n",
    "from bs4 import BeautifulSoup\n",
    "from langchain.text_splitter import RecursiveCharacterTextSplitter\n",
    "\n",
    "import langchain\n",
    "import os\n",
    "import json\n",
    "print(f\"LangChain version: {langchain.__version__}\")"
   ]
  },
  {
   "cell_type": "code",
   "execution_count": 86,
   "id": "f89f42a3-3bba-4902-a34d-c817d7538fd0",
   "metadata": {},
   "outputs": [
    {
     "name": "stdout",
     "output_type": "stream",
     "text": [
      "10\n"
     ]
    }
   ],
   "source": [
    "# Get all file names in the current directory\n",
    "import glob\n",
    "#file_names = os.listdir(\"web_text_raw\")\n",
    "file_names = glob.glob(os.path.join(\"web_text_raw/\", '*')) #use glob to skip \"hidden files in dire\n",
    "print(len(file_names))"
   ]
  },
  {
   "cell_type": "code",
   "execution_count": 90,
   "id": "854f69ee-a06a-42d3-9ad3-48d680fbd2e8",
   "metadata": {},
   "outputs": [],
   "source": [
    "def load_and_split(filename):\n",
    "    if filename.startswith(\".\"):\n",
    "        return\n",
    "    \n",
    "    with open(\"web_text_raw/\" + filename) as f:\n",
    "        soup = BeautifulSoup(f, 'html.parser')\n",
    "        \n",
    "    all_content = \"\"\n",
    "    all_docs = {}\n",
    "    url = 'https://' + filename.replace(\"_\",\"/\")[:-4] # remove .txt\n",
    "\n",
    "    lines = soup.get_text(\"\\n\", strip=True).splitlines()\n",
    "    for line in lines:\n",
    "        all_content = all_content + \" \" + line\n",
    "    \n",
    "    all_docs[url] = {}    \n",
    "    all_docs[url]['content'] = all_content\n",
    "    \n",
    "    raw_articles_from_file = []\n",
    "    for k, v in all_docs.items():\n",
    "        raw_articles_from_file.append(Document(page_content=v['content'], metadata={'source': k}))\n",
    "        \n",
    "    count = 1\n",
    "\n",
    "    text_splitter = RecursiveCharacterTextSplitter(chunk_size=CHUNK_SIZE, chunk_overlap=CHUNK_OVERLAP)\n",
    "    doc_splits = text_splitter.split_documents(raw_articles_from_file)\n",
    "    for doc in doc_splits:\n",
    "        doc.metadata['id'] = doc.metadata['source'] + \"_\" + str(count) # should we hash the URL + Heading?\n",
    "        doc.page_content = doc.page_content + \" source: \" + url #add source into the page_content since vertex doesnt seem to support metadata\n",
    "        count = count + 1\n",
    "    #print(f\"# of documents = {len(doc_splits)}\")\n",
    "    \n",
    "    with open('web_text_processed/' + filename.replace(\".txt\", \".jsonl\"), 'w', encoding='utf-8') as f:\n",
    "        for item in doc_splits:\n",
    "            json.dump({'page_content': item.page_content, 'metadata': item.metadata}, f)\n",
    "            f.write('\\n')\n",
    "            \n",
    "    return len(doc_splits)"
   ]
  },
  {
   "cell_type": "code",
   "execution_count": 91,
   "id": "205b712c-b014-42f2-babc-2d3570677628",
   "metadata": {},
   "outputs": [
    {
     "name": "stdout",
     "output_type": "stream",
     "text": [
      "All threads finished\n"
     ]
    }
   ],
   "source": [
    "import threading\n",
    "from concurrent.futures import ThreadPoolExecutor\n",
    "\n",
    "\n",
    "executor = ThreadPoolExecutor(max_workers=2)\n",
    "total_splits = 0\n",
    "\n",
    "\n",
    "futures = []\n",
    "for list_item in file_names:\n",
    "    future = executor.submit(load_and_split, list_item.split(\"/\")[1])\n",
    "    futures.append(future)\n",
    "\n",
    "for future in futures:\n",
    "    total_splits = total_splits + future.result()\n",
    "\n",
    "print(\"All threads finished\")"
   ]
  },
  {
   "cell_type": "code",
   "execution_count": 92,
   "id": "a77bcdf9-a3ff-4fb3-b6d9-b373ea055345",
   "metadata": {},
   "outputs": [
    {
     "name": "stdout",
     "output_type": "stream",
     "text": [
      "125\n"
     ]
    }
   ],
   "source": [
    "print(total_splits)"
   ]
  },
  {
   "cell_type": "markdown",
   "id": "4c180cb5-2188-4d31-b91d-a2b339d6cc0a",
   "metadata": {},
   "source": [
    "## Configure Matching Engine as Vector Store"
   ]
  },
  {
   "cell_type": "markdown",
   "id": "5b3cddc2-4937-4a8d-a37d-d31a5f8583ef",
   "metadata": {},
   "source": [
    "#### Get Matching Engine Index id and Endpoint id"
   ]
  },
  {
   "cell_type": "code",
   "execution_count": 104,
   "id": "96ab72d7-fbfb-40fc-aefe-0d82d7439c54",
   "metadata": {},
   "outputs": [],
   "source": [
    "mengine = MatchingEngineUtils(PROJECT_ID, LOCATION, ME_DISPLAY_NAME)"
   ]
  },
  {
   "cell_type": "code",
   "execution_count": 105,
   "id": "7e6e6004-6a7e-4f50-a661-8e2374bf7f19",
   "metadata": {},
   "outputs": [
    {
     "name": "stdout",
     "output_type": "stream",
     "text": [
      "ME_INDEX_ID=projects/184378960328/locations/us-central1/indexes/9057504110734999552\n",
      "ME_INDEX_ENDPOINT_ID=projects/184378960328/locations/us-central1/indexEndpoints/7247057060532060160\n"
     ]
    }
   ],
   "source": [
    "ME_INDEX_ID, ME_INDEX_ENDPOINT_ID = mengine.get_index_and_endpoint()\n",
    "print(f\"ME_INDEX_ID={ME_INDEX_ID}\")\n",
    "print(f\"ME_INDEX_ENDPOINT_ID={ME_INDEX_ENDPOINT_ID}\")"
   ]
  },
  {
   "cell_type": "code",
   "execution_count": 111,
   "id": "0da15c0c-eba7-4384-90c2-524c7aece816",
   "metadata": {},
   "outputs": [
    {
     "data": {
      "text/plain": [
       "VertexAIEmbeddings(client=<vertexai.language_models._language_models._PreviewTextEmbeddingModel object at 0x7f0fea7239a0>, model_name='textembedding-gecko', temperature=0.0, max_output_tokens=128, top_p=0.95, top_k=40, stop=None, project=None, location='us-central1', credentials=None)"
      ]
     },
     "execution_count": 111,
     "metadata": {},
     "output_type": "execute_result"
    }
   ],
   "source": [
    "REQUESTS_PER_MINUTE = 300\n",
    "\n",
    "\n",
    "llm = VertexAI(\n",
    "    model_name='text-bison@001',\n",
    "    max_output_tokens=512,\n",
    "    temperature=0.1,\n",
    "    top_p=0.8,\n",
    "    top_k=40,\n",
    "    verbose=True,\n",
    ")\n",
    "\n",
    "# Chat instance integrated with langChain\n",
    "#chat = VertexChat()\n",
    "\n",
    "# Embeddings API integrated with langChain\n",
    "embedding = VertexAIEmbeddings(requests_per_minute=REQUESTS_PER_MINUTE)\n",
    "\n",
    "embedding"
   ]
  },
  {
   "cell_type": "code",
   "execution_count": 112,
   "id": "9d828427-4d95-4a11-894d-6a496c6b5312",
   "metadata": {},
   "outputs": [],
   "source": [
    "# initialize vector store Object\n",
    "me = MatchingEngine.from_components(\n",
    "    project_id=PROJECT_ID,\n",
    "    region=LOCATION,\n",
    "    gcs_bucket_name=ME_EMBEDDING_DIR,\n",
    "    embedding=embedding,\n",
    "    index_id=ME_INDEX_ID,\n",
    "    endpoint_id=ME_INDEX_ENDPOINT_ID\n",
    ")"
   ]
  },
  {
   "cell_type": "code",
   "execution_count": 116,
   "id": "927070eb-05b1-48de-a5c9-75dee4a3b12c",
   "metadata": {},
   "outputs": [
    {
     "name": "stdout",
     "output_type": "stream",
     "text": [
      "10\n"
     ]
    }
   ],
   "source": [
    "# Get all file names in the current directory\n",
    "import glob\n",
    "import os\n",
    "import jsonlines\n",
    "import uuid\n",
    "#file_names = os.listdir(\"web_text_raw\")\n",
    "file_names = glob.glob(os.path.join(\"web_text_processed/\", '*')) #use glob to skip \"hidden files in dire\n",
    "print(len(file_names))"
   ]
  },
  {
   "cell_type": "code",
   "execution_count": 124,
   "id": "f73dadee-b3e4-4629-a3f0-5e460dfb6a9f",
   "metadata": {},
   "outputs": [],
   "source": [
    "def stream_to_me(filename):\n",
    "    \n",
    "    documents = []\n",
    "    \n",
    "    if filename.startswith(\".\"):\n",
    "        return\n",
    "    \n",
    "    with jsonlines.open(\"web_text_processed/\" + filename) as reader:\n",
    "        for line in reader:\n",
    "            documents.append(Document(page_content=line['page_content'], source=dict(line['metadata'])))\n",
    "\n",
    "    ids = me.add_documents(documents)\n",
    "    print(ids)\n",
    "    # texts = [doc.page_content for doc in documents]\n",
    "    # me.add_texts(texts=texts, metadatas=[{'url':'https://cloud.google.com//security/compliance/eba-eu/'}])\n",
    "    # print(documents)\n",
    "    return len(documents)\n",
    "\n"
   ]
  },
  {
   "cell_type": "code",
   "execution_count": 125,
   "id": "67a1c68f-95c2-46e9-bda2-f46cffb6ffca",
   "metadata": {},
   "outputs": [
    {
     "name": "stderr",
     "output_type": "stream",
     "text": [
      "INFO:root:Indexed 12 documents to Matching Engine.\n",
      "INFO:root:Indexed 12 documents to Matching Engine.\n",
      "INFO:root:Indexed 12 documents to Matching Engine.\n"
     ]
    },
    {
     "name": "stdout",
     "output_type": "stream",
     "text": [
      "[UUID('d7a166ef-b358-4dfd-ba32-5aa14f23f57a'), UUID('654af399-a05f-4b1d-bd6f-70373827ee4f'), UUID('cd2a11da-854c-4795-807e-9d713911d42f'), UUID('f32a17f2-bbe9-40c5-97b5-8706dcc5f334'), UUID('71b917d1-e7f1-4348-b220-a04509b31de9'), UUID('c1e72870-959c-45ee-84c8-fb574bfff067'), UUID('5dcbbc76-9114-4845-b578-79ae44bcefa3'), UUID('493c15b6-5d87-4f05-918d-62333df88fb6'), UUID('71e93595-9159-4416-b8fb-b996d13b3a3f'), UUID('7c61f76b-12a0-4b3a-b752-52913ad55fa0'), UUID('99adfd1a-fe9a-47d9-a192-5b71e91f1a87'), UUID('350dfb5a-29c9-4680-a107-bfbb628f4b39')]\n",
      "[UUID('5badbfe6-0ba2-41c7-ad30-7a71ba0bdace'), UUID('35910f15-3251-4eb7-b204-5780236deec0'), UUID('db14df24-f00f-4717-90dd-2fe1af90c516'), UUID('c7f21a28-8790-4e78-8d6c-f4d6d9f1214b'), UUID('1b42e502-76bd-4bb3-8b89-5286d6feaca1'), UUID('cda6247e-9edf-4b30-9121-f85119cde647'), UUID('e01411f5-ce0d-4e17-9da1-b441c5920b18'), UUID('daaa65e2-21fc-4f73-aa8d-b0053a90c073'), UUID('b0872efc-57b2-4799-9bd4-6f6f533d0e5c'), UUID('a64a8e49-83da-4809-b8e2-de1d87daf37b'), UUID('bf0105d2-6f85-4082-a1cf-cb01fed68b72'), UUID('77a6f113-54b4-4863-9f54-7cd15a2a002a')]\n",
      "[UUID('0a681c61-1000-4e04-82d9-a1b5cd795b45'), UUID('e290e6af-7219-4876-97ef-06d577730169'), UUID('56df4c79-7c90-4d29-a145-42fdf64cafe7'), UUID('42af2859-578e-4ebe-b9f6-0a5ce4964d09'), UUID('f7b0fd87-4d87-4efd-9b91-c1b23c043e26'), UUID('9a97c718-65d8-4f88-9e6c-a0eb46707361'), UUID('61011951-b9bd-4a23-b306-0e3cd2cb30c8'), UUID('452fb2fb-1266-4d5f-b5b3-a0b39d7c1aee'), UUID('383d7353-942b-438b-9870-01f07aa8152a'), UUID('66cf9ec5-d1d6-4eed-970c-e7390dc7d375'), UUID('cb77bc51-6b42-4409-9805-4e2eba636149'), UUID('92e2ed65-0f4f-4c55-be49-82df06bca90b')]\n"
     ]
    },
    {
     "name": "stderr",
     "output_type": "stream",
     "text": [
      "INFO:root:Indexed 15 documents to Matching Engine.\n"
     ]
    },
    {
     "name": "stdout",
     "output_type": "stream",
     "text": [
      "[UUID('7e4cc8d0-a197-4bb7-9d6e-0355448e0195'), UUID('919fafbf-cf5e-4855-aceb-0d262fd001ad'), UUID('217e3246-b126-4c08-bcf9-6a7fee1d5a2c'), UUID('1a084c03-eb77-47f5-810f-e0b8d1fcd8b6'), UUID('9875efa2-a8d3-4ff9-955c-72f43c547296'), UUID('6bccead0-ea3b-49a2-97f5-7bb74c80fdef'), UUID('5c40aad2-19a5-4043-9b29-55307dceed14'), UUID('82f42331-4956-4148-b9da-11f8b2df1b94'), UUID('fe62323a-9224-4aa8-ac3a-dde23bc14c36'), UUID('4a56f4e4-6c90-42b0-81ff-b52f778800d2'), UUID('0078f2bf-1c07-401a-936d-6f3145cd8596'), UUID('d085d33e-f519-451c-a57c-b33056de159e'), UUID('6ce5153b-4a04-4882-aea4-0673fc1dde24'), UUID('62ba60e6-c304-4312-8787-be6886bc7d7d'), UUID('70b881df-e9fa-44d6-ac80-b307d8de5243')]\n"
     ]
    },
    {
     "name": "stderr",
     "output_type": "stream",
     "text": [
      "INFO:root:Indexed 12 documents to Matching Engine.\n",
      "INFO:root:Indexed 12 documents to Matching Engine.\n",
      "INFO:root:Indexed 12 documents to Matching Engine.\n"
     ]
    },
    {
     "name": "stdout",
     "output_type": "stream",
     "text": [
      "[UUID('13884906-3a6d-4689-bc8a-8cbaa1876dc0'), UUID('d4b79276-7fbd-4dfb-ae28-fedc2d842cd8'), UUID('fe6d47e4-1e29-4773-8d8e-e0ac74318df2'), UUID('7ff57763-e858-417d-9ec7-dcfbb29ecd3e'), UUID('7a71df29-c9a4-43da-81a5-2526fde25cfa'), UUID('12962a6d-4dcc-4d7d-9c49-57b59585e1b0'), UUID('35b97cab-cd51-4ee2-abb7-bc5535bd76f2'), UUID('b816bf6f-c235-43fa-8ac6-ffafc2eb82d5'), UUID('10e88a48-5f26-433a-b66a-9f32f500346e'), UUID('cbd96c38-08c8-4e40-a2b6-b454b4668b8a'), UUID('bdfc9682-b40c-419a-8614-51eb7ebdadec'), UUID('c5d0b6f3-48b6-4fc6-b4c1-7f52884a5d0c')]\n",
      "[UUID('acb94fb9-5dcf-4c66-ae0b-72d2a8af8c6f'), UUID('5dfab393-74b6-46f8-8c06-a32e4dbb7e87'), UUID('b81361a8-893b-4fdd-8177-662c0c761740'), UUID('f18ec3ff-c26e-4939-9d80-1773488945dc'), UUID('671ca17b-9b5c-4268-a52f-849e80181586'), UUID('a34b54d2-b725-45c2-89cd-2c72be01ac7c'), UUID('6e36dc47-c5c1-4ec7-9b5c-ac4751b26ad5'), UUID('15d1233d-a888-48d0-916b-967006b0244d'), UUID('8e41092e-c4e7-4eb1-a018-a40ebade4618'), UUID('5598a820-677c-4fc3-940a-d0e7a1313388'), UUID('d656b89e-4936-4209-93c4-7fea473399a6'), UUID('5a782b0e-1dbe-4697-8abd-9b8e1c8d518a')]\n",
      "[UUID('2d38cf28-9721-4e62-b9fd-eb57ce0ee4ab'), UUID('a2154684-1b6f-458e-a86f-bfb5ab4d5e47'), UUID('d0531469-1796-4b28-b8bb-36d447ed3c27'), UUID('20dcba15-a7e8-4ba7-9f36-58c51e065bd5'), UUID('55214f56-4bc3-44df-9683-1d4135e15444'), UUID('dc1d58d7-e615-4859-bbaa-02f23cb82398'), UUID('7ac1abf9-5ae6-4cb8-ba2d-095058058138'), UUID('9d9a2631-6b3b-4461-9e1f-a54c7f44bdc8'), UUID('c412f6a1-81d1-479a-bcf3-bb66ace126b9'), UUID('ba06bf3d-8040-4930-a18f-34981ae1d06b'), UUID('74693e3d-cc03-4686-9aa8-65b22f7b9045'), UUID('402995c8-cdc1-4c58-8fd4-507255022c99')]\n"
     ]
    },
    {
     "name": "stderr",
     "output_type": "stream",
     "text": [
      "INFO:root:Indexed 13 documents to Matching Engine.\n"
     ]
    },
    {
     "name": "stdout",
     "output_type": "stream",
     "text": [
      "[UUID('e3dcad77-2894-4fe6-9aeb-d5bc688addb5'), UUID('85801d6c-ba30-42a8-a292-0b6451c246d0'), UUID('f96174dc-dcc6-4962-bcb4-e4c55db7f218'), UUID('587cbbd4-d539-48a4-8e27-ee2422aa23b1'), UUID('e42675e3-adc4-4fcc-afe0-c019bf29416f'), UUID('81248466-9f21-426d-aecb-882d6af21f99'), UUID('1ef42295-5e02-48df-aa93-b281e3841d5a'), UUID('13d144cd-614b-4717-b39f-d418f82c54df'), UUID('7f1fabb5-bb2b-4fcb-8a82-cd8bc7911402'), UUID('1f00559e-ba16-4897-8503-c9bd82f1772c'), UUID('51514298-f523-4789-8a1b-3a9d0365ddc9'), UUID('745c3108-b611-4738-a80e-47043a85d51a'), UUID('e062e2a4-fbaf-4028-92a9-7b0d46a86cef')]\n"
     ]
    },
    {
     "name": "stderr",
     "output_type": "stream",
     "text": [
      "INFO:root:Indexed 12 documents to Matching Engine.\n",
      "INFO:root:Indexed 13 documents to Matching Engine.\n"
     ]
    },
    {
     "name": "stdout",
     "output_type": "stream",
     "text": [
      "[UUID('268d27fd-6aba-42d2-885c-11cb93da0824'), UUID('6b675c4c-5c4a-4940-ae38-c6a3d374289e'), UUID('0a5375d7-1050-4ba5-872e-b06211c5ae43'), UUID('95561ee4-bd19-45d9-ac9d-72458739474e'), UUID('cf852e10-4d32-435b-8469-454af1a82ea6'), UUID('272c444a-4600-4ee1-9497-1f6ebd33c270'), UUID('e5bfe563-6810-4547-b153-acdce1176765'), UUID('dbd4345b-6314-4d4b-b482-e14e6beb04ac'), UUID('428f9d29-2880-44a6-a11d-a680e702cbe7'), UUID('158c670a-233b-4395-9af3-7e2696f380d7'), UUID('07b12adf-8560-43c9-a52b-8d07560db5aa'), UUID('a2821957-3765-4e7f-b00d-e37eb2b9cbd9')]\n",
      "[UUID('2e5b8af5-ab90-407b-8ac3-199c0363a1b0'), UUID('383d3ba5-fcb1-4e8e-8e0d-e8891348c6de'), UUID('fd8f8483-ec9c-40b3-bcb5-9f02de2dcad4'), UUID('88c376e9-b8b3-4bb5-9a43-2b4c41fb45f2'), UUID('63d68921-6d7e-4782-9776-c715cc81c8c7'), UUID('b5a34381-1085-4ab8-bd31-17f0ce9cc545'), UUID('b66915a8-0f2a-40dc-b747-4445fb206e40'), UUID('5bf354d6-f296-4698-a232-4b62ac143f1c'), UUID('12242bc1-c27b-4581-8444-63c4baa6ed6b'), UUID('ef61a50c-1d1a-4841-93fb-00deda6efaf4'), UUID('7cc2960c-251e-431b-93c6-42ea7590d1ac'), UUID('28ec1008-af9b-4936-ba21-5cada00c47c1'), UUID('d2d8f35d-e2cb-4480-bff3-9a6d87f5ee0d')]\n",
      "All threads finished\n"
     ]
    }
   ],
   "source": [
    "import threading\n",
    "from concurrent.futures import ThreadPoolExecutor\n",
    "\n",
    "\n",
    "executor = ThreadPoolExecutor(max_workers=4)\n",
    "total_loaded = 0\n",
    "\n",
    "\n",
    "futures = []\n",
    "for list_item in file_names:\n",
    "    future = executor.submit(stream_to_me, list_item.split(\"/\")[1])\n",
    "    futures.append(future)\n",
    "\n",
    "for future in futures:\n",
    "    total_loaded = total_loaded + future.result()\n",
    "\n",
    "print(\"All threads finished\")"
   ]
  },
  {
   "cell_type": "code",
   "execution_count": 129,
   "id": "6826f8da-52b8-420f-970f-d65797ecaba5",
   "metadata": {},
   "outputs": [
    {
     "data": {
      "text/plain": [
       "[Document(page_content=\"Smart analytics Artificial Intelligence Security Productivity & work transformation Industry solutions DevOps solutions Small business solutions See all solutions Resources Google Cloud documentation Google Cloud quickstarts Google Cloud Marketplace Learn about cloud computing Support Code samples Cloud Architecture Center Training Certifications Google for Developers Google Cloud for Startups System status Release Notes Engage Contact sales Find a Partner Become a Partner Events Podcasts Developer Center Press Corner Google Cloud on YouTube Google Cloud Tech on YouTube Follow on Twitter Join User Research We're hiring. Join Google Cloud! Google Cloud Community Cookie Settings About Google Privacy Site terms Google Cloud terms Our third decade of climate action: join us Sign up for the Google Cloud newsletter Subscribe English Bahasa Indonesia Deutsch Español Español – América Latina Français Italiano Português – Brasil 中文 – 简体 中文 – 繁體 日本語 한국어 source: https://cloud.google.com/multicloud\", metadata={'score': 0.7628259658813477}),\n",
       " Document(page_content=\"all networking products Operations Cloud Logging Cloud Monitoring Error Reporting Kubernetes Engine Monitoring Cloud Trace Cloud Profiler Intelligent Operations Security and Identity Cloud IAM Assured Workloads Cloud Key Management Confidential Computing Security Command Center Cloud Data Loss Prevention Mandiant Products and Services Chronicle SIEM Chronicle Security Operations VirusTotal Enterprise reCAPTCHA Enterprise See all security and identity products Serverless Computing Cloud Run Cloud Functions App Engine Workflows Storage All Storage Products Cloud Storage Filestore Persistent Disk Cloud Storage for Firebase Local SSD Storage Transfer Service Google Workspace Essentials Google Cloud Backup and DR Web3 Blockchain Node Engine Save money with our transparent approach to pricing Request a quote Pricing overview and tools Google Cloud pricing Pricing calculator Google Cloud free tier Cost optimization framework Cost management tools Product-specific Pricing Compute Engine Cloud SQL Google Kubernetes Engine Cloud Storage BigQuery See full price list with 100+ products Learn & build Google Cloud Free Program Quickstarts Cloud computing basics Blog Learning Hub Training Certification Cloud Architecture Center Connect Innovators Developer Center Events and webinars Google Cloud Community Third-party tools and partners Google Cloud Marketplace Google Cloud partners Become a partner Home Overview Stay organized with collections Save and categorize content based on your preferences. 5 ways Google can help you             succeed in the hybrid and multicloud world Drive transformation                       with Google's multicloud solutions We offer you the                       flexibility to migrate, build, and optimize apps across                       hybrid and multicloud environments while minimizing vendor                       lock-in, leveraging best-in-breed solutions, and meeting                       regulatory requirements. Get started for free Contact sales Contact sales 17:08 How Google's                   multicloud solutions are unleashing your business potential Manage apps and data anywhere Google Cloud empowers you to quickly build new apps                             and modernize existing ones to increase your agility                             and reap the benefits of the multicloud. We offer a consistent platform and data analysis for your deployments no matter                             where they reside, along with a service-centric view                             of all your environments. 55% Anthos increases platform                           operations efficiency by up to 55% Source: Forrester 50+ Looker supports 50+ distinct                           SQL dialects across multiple clouds 34% Save 26%–34% on your total                           cost of ownership over a 3-year period Sources: Looker , ESG report Break down silos and uncover new insights Process and analyze petabytes of data on a highly                             scalable, cost-effective and secure data warehouse solution across clouds. Serve up real-time dashboards for more in-depth, consistent analysis and harness                             the power of our industry-leading AI & ML services for improved business outcomes. Accelerate application delivery Build enterprise-grade containerized applications                             faster with best-in-class managed Kubernetes and serverless platform on cloud and on-premises environments. source: https://cloud.google.com/multicloud\", metadata={'score': 0.7575244903564453})]"
      ]
     },
     "execution_count": 129,
     "metadata": {},
     "output_type": "execute_result"
    }
   ],
   "source": [
    "# Test whether search from vector store is working\n",
    "me.similarity_search(\"Multicloud Solutions\", k=2)"
   ]
  },
  {
   "cell_type": "code",
   "execution_count": null,
   "id": "3ff71341-0ded-4e98-bb64-49764daed4cf",
   "metadata": {},
   "outputs": [],
   "source": []
  }
 ],
 "metadata": {
  "environment": {
   "kernel": "python3",
   "name": "common-cpu.m109",
   "type": "gcloud",
   "uri": "gcr.io/deeplearning-platform-release/base-cpu:m109"
  },
  "kernelspec": {
   "display_name": "Python 3",
   "language": "python",
   "name": "python3"
  },
  "language_info": {
   "codemirror_mode": {
    "name": "ipython",
    "version": 3
   },
   "file_extension": ".py",
   "mimetype": "text/x-python",
   "name": "python",
   "nbconvert_exporter": "python",
   "pygments_lexer": "ipython3",
   "version": "3.10.11"
  }
 },
 "nbformat": 4,
 "nbformat_minor": 5
}
