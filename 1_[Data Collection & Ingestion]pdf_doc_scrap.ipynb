{
 "cells": [
  {
   "cell_type": "markdown",
   "id": "bd98bafb-66b7-431a-819e-0f2c12017207",
   "metadata": {},
   "source": [
    "## Getting Started\n",
    "### Install Vertex AI SDK, other packages and their dependencies"
   ]
  },
  {
   "cell_type": "code",
   "execution_count": 3,
   "id": "4a255a7e-2062-4a9e-912d-063e8c77d3c8",
   "metadata": {},
   "outputs": [
    {
     "name": "stdout",
     "output_type": "stream",
     "text": [
      "Requirement already satisfied: google-cloud-aiplatform==1.27.0 in /home/jupyter/.local/lib/python3.10/site-packages (1.27.0)\n",
      "Collecting langchain==0.0.201\n",
      "  Using cached langchain-0.0.201-py3-none-any.whl (1.0 MB)\n",
      "Requirement already satisfied: google-api-core[grpc]!=2.0.*,!=2.1.*,!=2.2.*,!=2.3.*,!=2.4.*,!=2.5.*,!=2.6.*,!=2.7.*,<3.0.0dev,>=1.32.0 in /opt/conda/lib/python3.10/site-packages (from google-cloud-aiplatform==1.27.0) (1.34.0)\n",
      "Requirement already satisfied: proto-plus<2.0.0dev,>=1.22.0 in /opt/conda/lib/python3.10/site-packages (from google-cloud-aiplatform==1.27.0) (1.22.2)\n",
      "Requirement already satisfied: protobuf!=3.20.0,!=3.20.1,!=4.21.0,!=4.21.1,!=4.21.2,!=4.21.3,!=4.21.4,!=4.21.5,<5.0.0dev,>=3.19.5 in /opt/conda/lib/python3.10/site-packages (from google-cloud-aiplatform==1.27.0) (3.20.3)\n",
      "Requirement already satisfied: packaging>=14.3 in /opt/conda/lib/python3.10/site-packages (from google-cloud-aiplatform==1.27.0) (23.1)\n",
      "Requirement already satisfied: google-cloud-storage<3.0.0dev,>=1.32.0 in /opt/conda/lib/python3.10/site-packages (from google-cloud-aiplatform==1.27.0) (2.9.0)\n",
      "Requirement already satisfied: google-cloud-bigquery<4.0.0dev,>=1.15.0 in /opt/conda/lib/python3.10/site-packages (from google-cloud-aiplatform==1.27.0) (3.11.1)\n",
      "Requirement already satisfied: google-cloud-resource-manager<3.0.0dev,>=1.3.3 in /opt/conda/lib/python3.10/site-packages (from google-cloud-aiplatform==1.27.0) (1.10.1)\n",
      "Requirement already satisfied: shapely<2.0.0 in /opt/conda/lib/python3.10/site-packages (from google-cloud-aiplatform==1.27.0) (1.8.5.post1)\n",
      "Requirement already satisfied: PyYAML>=5.4.1 in /opt/conda/lib/python3.10/site-packages (from langchain==0.0.201) (6.0)\n",
      "Requirement already satisfied: SQLAlchemy<3,>=1.4 in /opt/conda/lib/python3.10/site-packages (from langchain==0.0.201) (2.0.16)\n",
      "Requirement already satisfied: aiohttp<4.0.0,>=3.8.3 in /opt/conda/lib/python3.10/site-packages (from langchain==0.0.201) (3.8.4)\n",
      "Requirement already satisfied: async-timeout<5.0.0,>=4.0.0 in /opt/conda/lib/python3.10/site-packages (from langchain==0.0.201) (4.0.2)\n",
      "Requirement already satisfied: dataclasses-json<0.6.0,>=0.5.7 in /opt/conda/lib/python3.10/site-packages (from langchain==0.0.201) (0.5.8)\n",
      "Requirement already satisfied: langchainplus-sdk>=0.0.9 in /opt/conda/lib/python3.10/site-packages (from langchain==0.0.201) (0.0.17)\n",
      "Requirement already satisfied: numexpr<3.0.0,>=2.8.4 in /opt/conda/lib/python3.10/site-packages (from langchain==0.0.201) (2.8.4)\n",
      "Requirement already satisfied: numpy<2,>=1 in /opt/conda/lib/python3.10/site-packages (from langchain==0.0.201) (1.23.5)\n",
      "Requirement already satisfied: openapi-schema-pydantic<2.0,>=1.2 in /opt/conda/lib/python3.10/site-packages (from langchain==0.0.201) (1.2.4)\n",
      "Requirement already satisfied: pydantic<2,>=1 in /opt/conda/lib/python3.10/site-packages (from langchain==0.0.201) (1.10.9)\n",
      "Requirement already satisfied: requests<3,>=2 in /opt/conda/lib/python3.10/site-packages (from langchain==0.0.201) (2.31.0)\n",
      "Requirement already satisfied: tenacity<9.0.0,>=8.1.0 in /opt/conda/lib/python3.10/site-packages (from langchain==0.0.201) (8.2.2)\n",
      "Requirement already satisfied: attrs>=17.3.0 in /opt/conda/lib/python3.10/site-packages (from aiohttp<4.0.0,>=3.8.3->langchain==0.0.201) (23.1.0)\n",
      "Requirement already satisfied: charset-normalizer<4.0,>=2.0 in /opt/conda/lib/python3.10/site-packages (from aiohttp<4.0.0,>=3.8.3->langchain==0.0.201) (3.1.0)\n",
      "Requirement already satisfied: multidict<7.0,>=4.5 in /opt/conda/lib/python3.10/site-packages (from aiohttp<4.0.0,>=3.8.3->langchain==0.0.201) (6.0.4)\n",
      "Requirement already satisfied: yarl<2.0,>=1.0 in /opt/conda/lib/python3.10/site-packages (from aiohttp<4.0.0,>=3.8.3->langchain==0.0.201) (1.9.2)\n",
      "Requirement already satisfied: frozenlist>=1.1.1 in /opt/conda/lib/python3.10/site-packages (from aiohttp<4.0.0,>=3.8.3->langchain==0.0.201) (1.3.3)\n",
      "Requirement already satisfied: aiosignal>=1.1.2 in /opt/conda/lib/python3.10/site-packages (from aiohttp<4.0.0,>=3.8.3->langchain==0.0.201) (1.3.1)\n",
      "Requirement already satisfied: marshmallow<4.0.0,>=3.3.0 in /opt/conda/lib/python3.10/site-packages (from dataclasses-json<0.6.0,>=0.5.7->langchain==0.0.201) (3.19.0)\n",
      "Requirement already satisfied: marshmallow-enum<2.0.0,>=1.5.1 in /opt/conda/lib/python3.10/site-packages (from dataclasses-json<0.6.0,>=0.5.7->langchain==0.0.201) (1.5.1)\n",
      "Requirement already satisfied: typing-inspect>=0.4.0 in /opt/conda/lib/python3.10/site-packages (from dataclasses-json<0.6.0,>=0.5.7->langchain==0.0.201) (0.9.0)\n",
      "Requirement already satisfied: googleapis-common-protos<2.0dev,>=1.56.2 in /opt/conda/lib/python3.10/site-packages (from google-api-core[grpc]!=2.0.*,!=2.1.*,!=2.2.*,!=2.3.*,!=2.4.*,!=2.5.*,!=2.6.*,!=2.7.*,<3.0.0dev,>=1.32.0->google-cloud-aiplatform==1.27.0) (1.59.1)\n",
      "Requirement already satisfied: google-auth<3.0dev,>=1.25.0 in /opt/conda/lib/python3.10/site-packages (from google-api-core[grpc]!=2.0.*,!=2.1.*,!=2.2.*,!=2.3.*,!=2.4.*,!=2.5.*,!=2.6.*,!=2.7.*,<3.0.0dev,>=1.32.0->google-cloud-aiplatform==1.27.0) (2.20.0)\n",
      "Requirement already satisfied: grpcio<2.0dev,>=1.33.2 in /opt/conda/lib/python3.10/site-packages (from google-api-core[grpc]!=2.0.*,!=2.1.*,!=2.2.*,!=2.3.*,!=2.4.*,!=2.5.*,!=2.6.*,!=2.7.*,<3.0.0dev,>=1.32.0->google-cloud-aiplatform==1.27.0) (1.51.3)\n",
      "Requirement already satisfied: grpcio-status<2.0dev,>=1.33.2 in /opt/conda/lib/python3.10/site-packages (from google-api-core[grpc]!=2.0.*,!=2.1.*,!=2.2.*,!=2.3.*,!=2.4.*,!=2.5.*,!=2.6.*,!=2.7.*,<3.0.0dev,>=1.32.0->google-cloud-aiplatform==1.27.0) (1.48.2)\n",
      "Requirement already satisfied: google-cloud-core<3.0.0dev,>=1.6.0 in /opt/conda/lib/python3.10/site-packages (from google-cloud-bigquery<4.0.0dev,>=1.15.0->google-cloud-aiplatform==1.27.0) (2.3.2)\n",
      "Requirement already satisfied: google-resumable-media<3.0dev,>=0.6.0 in /opt/conda/lib/python3.10/site-packages (from google-cloud-bigquery<4.0.0dev,>=1.15.0->google-cloud-aiplatform==1.27.0) (2.5.0)\n",
      "Requirement already satisfied: python-dateutil<3.0dev,>=2.7.2 in /opt/conda/lib/python3.10/site-packages (from google-cloud-bigquery<4.0.0dev,>=1.15.0->google-cloud-aiplatform==1.27.0) (2.8.2)\n",
      "Requirement already satisfied: grpc-google-iam-v1<1.0.0dev,>=0.12.4 in /opt/conda/lib/python3.10/site-packages (from google-cloud-resource-manager<3.0.0dev,>=1.3.3->google-cloud-aiplatform==1.27.0) (0.12.6)\n",
      "Requirement already satisfied: typing-extensions>=4.2.0 in /opt/conda/lib/python3.10/site-packages (from pydantic<2,>=1->langchain==0.0.201) (4.5.0)\n",
      "Requirement already satisfied: idna<4,>=2.5 in /opt/conda/lib/python3.10/site-packages (from requests<3,>=2->langchain==0.0.201) (3.4)\n",
      "Requirement already satisfied: urllib3<3,>=1.21.1 in /opt/conda/lib/python3.10/site-packages (from requests<3,>=2->langchain==0.0.201) (1.26.16)\n",
      "Requirement already satisfied: certifi>=2017.4.17 in /opt/conda/lib/python3.10/site-packages (from requests<3,>=2->langchain==0.0.201) (2023.5.7)\n",
      "Requirement already satisfied: greenlet!=0.4.17 in /opt/conda/lib/python3.10/site-packages (from SQLAlchemy<3,>=1.4->langchain==0.0.201) (2.0.2)\n",
      "Requirement already satisfied: cachetools<6.0,>=2.0.0 in /opt/conda/lib/python3.10/site-packages (from google-auth<3.0dev,>=1.25.0->google-api-core[grpc]!=2.0.*,!=2.1.*,!=2.2.*,!=2.3.*,!=2.4.*,!=2.5.*,!=2.6.*,!=2.7.*,<3.0.0dev,>=1.32.0->google-cloud-aiplatform==1.27.0) (5.3.1)\n",
      "Requirement already satisfied: pyasn1-modules>=0.2.1 in /opt/conda/lib/python3.10/site-packages (from google-auth<3.0dev,>=1.25.0->google-api-core[grpc]!=2.0.*,!=2.1.*,!=2.2.*,!=2.3.*,!=2.4.*,!=2.5.*,!=2.6.*,!=2.7.*,<3.0.0dev,>=1.32.0->google-cloud-aiplatform==1.27.0) (0.3.0)\n",
      "Requirement already satisfied: rsa<5,>=3.1.4 in /opt/conda/lib/python3.10/site-packages (from google-auth<3.0dev,>=1.25.0->google-api-core[grpc]!=2.0.*,!=2.1.*,!=2.2.*,!=2.3.*,!=2.4.*,!=2.5.*,!=2.6.*,!=2.7.*,<3.0.0dev,>=1.32.0->google-cloud-aiplatform==1.27.0) (4.9)\n",
      "Requirement already satisfied: six>=1.9.0 in /opt/conda/lib/python3.10/site-packages (from google-auth<3.0dev,>=1.25.0->google-api-core[grpc]!=2.0.*,!=2.1.*,!=2.2.*,!=2.3.*,!=2.4.*,!=2.5.*,!=2.6.*,!=2.7.*,<3.0.0dev,>=1.32.0->google-cloud-aiplatform==1.27.0) (1.16.0)\n",
      "Requirement already satisfied: google-crc32c<2.0dev,>=1.0 in /opt/conda/lib/python3.10/site-packages (from google-resumable-media<3.0dev,>=0.6.0->google-cloud-bigquery<4.0.0dev,>=1.15.0->google-cloud-aiplatform==1.27.0) (1.5.0)\n",
      "Requirement already satisfied: mypy-extensions>=0.3.0 in /opt/conda/lib/python3.10/site-packages (from typing-inspect>=0.4.0->dataclasses-json<0.6.0,>=0.5.7->langchain==0.0.201) (1.0.0)\n",
      "Requirement already satisfied: pyasn1<0.6.0,>=0.4.6 in /opt/conda/lib/python3.10/site-packages (from pyasn1-modules>=0.2.1->google-auth<3.0dev,>=1.25.0->google-api-core[grpc]!=2.0.*,!=2.1.*,!=2.2.*,!=2.3.*,!=2.4.*,!=2.5.*,!=2.6.*,!=2.7.*,<3.0.0dev,>=1.32.0->google-cloud-aiplatform==1.27.0) (0.5.0)\n",
      "Installing collected packages: langchain\n",
      "\u001b[33m  WARNING: The script langchain-server is installed in '/home/jupyter/.local/bin' which is not on PATH.\n",
      "  Consider adding this directory to PATH or, if you prefer to suppress this warning, use --no-warn-script-location.\u001b[0m\u001b[33m\n",
      "\u001b[0mSuccessfully installed langchain-0.0.201\n",
      "libtesseract-dev is already the newest version (4.1.1-2.1).\n",
      "tesseract-ocr is already the newest version (4.1.1-2.1).\n",
      "0 upgraded, 0 newly installed, 0 to remove and 15 not upgraded.\n",
      "Requirement already satisfied: unstructured==0.7.5 in /home/jupyter/.local/lib/python3.10/site-packages (0.7.5)\n",
      "Requirement already satisfied: pdf2image==1.16.3 in /home/jupyter/.local/lib/python3.10/site-packages (1.16.3)\n",
      "Requirement already satisfied: pytesseract==0.3.10 in /home/jupyter/.local/lib/python3.10/site-packages (0.3.10)\n",
      "Requirement already satisfied: pdfminer.six in /home/jupyter/.local/lib/python3.10/site-packages (20221105)\n",
      "Requirement already satisfied: argilla in /home/jupyter/.local/lib/python3.10/site-packages (from unstructured==0.7.5) (1.13.3)\n",
      "Requirement already satisfied: chardet in /home/jupyter/.local/lib/python3.10/site-packages (from unstructured==0.7.5) (5.2.0)\n",
      "Requirement already satisfied: filetype in /home/jupyter/.local/lib/python3.10/site-packages (from unstructured==0.7.5) (1.2.0)\n",
      "Requirement already satisfied: lxml in /home/jupyter/.local/lib/python3.10/site-packages (from unstructured==0.7.5) (4.9.3)\n",
      "Requirement already satisfied: msg-parser in /home/jupyter/.local/lib/python3.10/site-packages (from unstructured==0.7.5) (1.2.0)\n",
      "Requirement already satisfied: nltk in /home/jupyter/.local/lib/python3.10/site-packages (from unstructured==0.7.5) (3.8.1)\n",
      "Requirement already satisfied: openpyxl in /home/jupyter/.local/lib/python3.10/site-packages (from unstructured==0.7.5) (3.1.2)\n",
      "Requirement already satisfied: pandas in /opt/conda/lib/python3.10/site-packages (from unstructured==0.7.5) (1.5.3)\n",
      "Requirement already satisfied: pillow in /opt/conda/lib/python3.10/site-packages (from unstructured==0.7.5) (9.5.0)\n",
      "Requirement already satisfied: pypandoc in /home/jupyter/.local/lib/python3.10/site-packages (from unstructured==0.7.5) (1.11)\n",
      "Requirement already satisfied: python-docx in /home/jupyter/.local/lib/python3.10/site-packages (from unstructured==0.7.5) (0.8.11)\n",
      "Requirement already satisfied: python-pptx in /home/jupyter/.local/lib/python3.10/site-packages (from unstructured==0.7.5) (0.6.21)\n",
      "Requirement already satisfied: python-magic in /home/jupyter/.local/lib/python3.10/site-packages (from unstructured==0.7.5) (0.4.27)\n",
      "Requirement already satisfied: markdown in /opt/conda/lib/python3.10/site-packages (from unstructured==0.7.5) (3.4.3)\n",
      "Requirement already satisfied: requests in /opt/conda/lib/python3.10/site-packages (from unstructured==0.7.5) (2.31.0)\n",
      "Requirement already satisfied: tabulate in /opt/conda/lib/python3.10/site-packages (from unstructured==0.7.5) (0.9.0)\n",
      "Requirement already satisfied: xlrd in /home/jupyter/.local/lib/python3.10/site-packages (from unstructured==0.7.5) (2.0.1)\n",
      "Requirement already satisfied: packaging>=21.3 in /opt/conda/lib/python3.10/site-packages (from pytesseract==0.3.10) (23.1)\n",
      "Requirement already satisfied: charset-normalizer>=2.0.0 in /opt/conda/lib/python3.10/site-packages (from pdfminer.six) (3.1.0)\n",
      "Requirement already satisfied: cryptography>=36.0.0 in /opt/conda/lib/python3.10/site-packages (from pdfminer.six) (41.0.1)\n",
      "Requirement already satisfied: cffi>=1.12 in /opt/conda/lib/python3.10/site-packages (from cryptography>=36.0.0->pdfminer.six) (1.15.1)\n",
      "Requirement already satisfied: httpx<0.24,>=0.15 in /home/jupyter/.local/lib/python3.10/site-packages (from argilla->unstructured==0.7.5) (0.23.3)\n",
      "Requirement already satisfied: deprecated~=1.2.0 in /opt/conda/lib/python3.10/site-packages (from argilla->unstructured==0.7.5) (1.2.14)\n",
      "Requirement already satisfied: pydantic<2.0,>=1.10.7 in /opt/conda/lib/python3.10/site-packages (from argilla->unstructured==0.7.5) (1.10.9)\n",
      "Requirement already satisfied: wrapt<1.15,>=1.13 in /opt/conda/lib/python3.10/site-packages (from argilla->unstructured==0.7.5) (1.14.1)\n",
      "Requirement already satisfied: numpy<1.24.0 in /opt/conda/lib/python3.10/site-packages (from argilla->unstructured==0.7.5) (1.23.5)\n",
      "Requirement already satisfied: tqdm>=4.27.0 in /opt/conda/lib/python3.10/site-packages (from argilla->unstructured==0.7.5) (4.65.0)\n",
      "Requirement already satisfied: backoff in /opt/conda/lib/python3.10/site-packages (from argilla->unstructured==0.7.5) (2.2.1)\n",
      "Requirement already satisfied: monotonic in /home/jupyter/.local/lib/python3.10/site-packages (from argilla->unstructured==0.7.5) (1.6)\n",
      "Requirement already satisfied: rich!=13.1.0 in /opt/conda/lib/python3.10/site-packages (from argilla->unstructured==0.7.5) (13.4.2)\n",
      "Requirement already satisfied: typer<0.8.0,>=0.6.0 in /home/jupyter/.local/lib/python3.10/site-packages (from argilla->unstructured==0.7.5) (0.7.0)\n",
      "Requirement already satisfied: python-dateutil>=2.8.1 in /opt/conda/lib/python3.10/site-packages (from pandas->unstructured==0.7.5) (2.8.2)\n",
      "Requirement already satisfied: pytz>=2020.1 in /opt/conda/lib/python3.10/site-packages (from pandas->unstructured==0.7.5) (2023.3)\n",
      "Requirement already satisfied: olefile>=0.46 in /home/jupyter/.local/lib/python3.10/site-packages (from msg-parser->unstructured==0.7.5) (0.46)\n",
      "Requirement already satisfied: click in /opt/conda/lib/python3.10/site-packages (from nltk->unstructured==0.7.5) (8.1.3)\n",
      "Requirement already satisfied: joblib in /opt/conda/lib/python3.10/site-packages (from nltk->unstructured==0.7.5) (1.2.0)\n",
      "Requirement already satisfied: regex>=2021.8.3 in /home/jupyter/.local/lib/python3.10/site-packages (from nltk->unstructured==0.7.5) (2023.6.3)\n",
      "Requirement already satisfied: et-xmlfile in /home/jupyter/.local/lib/python3.10/site-packages (from openpyxl->unstructured==0.7.5) (1.1.0)\n",
      "Requirement already satisfied: XlsxWriter>=0.5.7 in /home/jupyter/.local/lib/python3.10/site-packages (from python-pptx->unstructured==0.7.5) (3.1.2)\n",
      "Requirement already satisfied: idna<4,>=2.5 in /opt/conda/lib/python3.10/site-packages (from requests->unstructured==0.7.5) (3.4)\n",
      "Requirement already satisfied: urllib3<3,>=1.21.1 in /opt/conda/lib/python3.10/site-packages (from requests->unstructured==0.7.5) (1.26.16)\n",
      "Requirement already satisfied: certifi>=2017.4.17 in /opt/conda/lib/python3.10/site-packages (from requests->unstructured==0.7.5) (2023.5.7)\n",
      "Requirement already satisfied: pycparser in /opt/conda/lib/python3.10/site-packages (from cffi>=1.12->cryptography>=36.0.0->pdfminer.six) (2.21)\n",
      "Requirement already satisfied: httpcore<0.17.0,>=0.15.0 in /home/jupyter/.local/lib/python3.10/site-packages (from httpx<0.24,>=0.15->argilla->unstructured==0.7.5) (0.16.3)\n",
      "Requirement already satisfied: rfc3986[idna2008]<2,>=1.3 in /home/jupyter/.local/lib/python3.10/site-packages (from httpx<0.24,>=0.15->argilla->unstructured==0.7.5) (1.5.0)\n",
      "Requirement already satisfied: sniffio in /opt/conda/lib/python3.10/site-packages (from httpx<0.24,>=0.15->argilla->unstructured==0.7.5) (1.3.0)\n",
      "Requirement already satisfied: typing-extensions>=4.2.0 in /opt/conda/lib/python3.10/site-packages (from pydantic<2.0,>=1.10.7->argilla->unstructured==0.7.5) (4.5.0)\n",
      "Requirement already satisfied: six>=1.5 in /opt/conda/lib/python3.10/site-packages (from python-dateutil>=2.8.1->pandas->unstructured==0.7.5) (1.16.0)\n",
      "Requirement already satisfied: markdown-it-py>=2.2.0 in /opt/conda/lib/python3.10/site-packages (from rich!=13.1.0->argilla->unstructured==0.7.5) (2.2.0)\n",
      "Requirement already satisfied: pygments<3.0.0,>=2.13.0 in /opt/conda/lib/python3.10/site-packages (from rich!=13.1.0->argilla->unstructured==0.7.5) (2.15.1)\n",
      "Requirement already satisfied: h11<0.15,>=0.13 in /opt/conda/lib/python3.10/site-packages (from httpcore<0.17.0,>=0.15.0->httpx<0.24,>=0.15->argilla->unstructured==0.7.5) (0.14.0)\n",
      "Requirement already satisfied: anyio<5.0,>=3.0 in /opt/conda/lib/python3.10/site-packages (from httpcore<0.17.0,>=0.15.0->httpx<0.24,>=0.15->argilla->unstructured==0.7.5) (3.7.0)\n",
      "Requirement already satisfied: mdurl~=0.1 in /opt/conda/lib/python3.10/site-packages (from markdown-it-py>=2.2.0->rich!=13.1.0->argilla->unstructured==0.7.5) (0.1.2)\n",
      "Requirement already satisfied: exceptiongroup in /opt/conda/lib/python3.10/site-packages (from anyio<5.0,>=3.0->httpcore<0.17.0,>=0.15.0->httpx<0.24,>=0.15->argilla->unstructured==0.7.5) (1.1.1)\n",
      "Requirement already satisfied: pypdf in /opt/conda/lib/python3.10/site-packages (3.15.0)\n"
     ]
    }
   ],
   "source": [
    "# Install Vertex AI LLM SDK\n",
    "! pip install --user google-cloud-aiplatform==1.27.0 langchain==0.0.201\n",
    "\n",
    "# Dependencies required by Unstructured PDF loader\n",
    "! sudo apt -y -qq install tesseract-ocr libtesseract-dev \n",
    "! sudo apt-get -y -qq install poppler-utils\n",
    "! pip install --user unstructured==0.7.5 pdf2image==1.16.3 pytesseract==0.3.10 pdfminer.six\n",
    "\n",
    "!pip install --upgrade pypdf\n"
   ]
  },
  {
   "cell_type": "code",
   "execution_count": 7,
   "id": "70017c08-12a1-40f8-87b7-9ab3225910cf",
   "metadata": {},
   "outputs": [
    {
     "name": "stdout",
     "output_type": "stream",
     "text": [
      "Requirement already satisfied: github-clone in /opt/conda/lib/python3.10/site-packages (1.2.0)\n",
      "Requirement already satisfied: requests>=2.20.0 in /opt/conda/lib/python3.10/site-packages (from github-clone) (2.31.0)\n",
      "Requirement already satisfied: docopt>=0.6.2 in /opt/conda/lib/python3.10/site-packages (from github-clone) (0.6.2)\n",
      "Requirement already satisfied: charset-normalizer<4,>=2 in /opt/conda/lib/python3.10/site-packages (from requests>=2.20.0->github-clone) (3.1.0)\n",
      "Requirement already satisfied: idna<4,>=2.5 in /opt/conda/lib/python3.10/site-packages (from requests>=2.20.0->github-clone) (3.4)\n",
      "Requirement already satisfied: urllib3<3,>=1.21.1 in /opt/conda/lib/python3.10/site-packages (from requests>=2.20.0->github-clone) (1.26.16)\n",
      "Requirement already satisfied: certifi>=2017.4.17 in /opt/conda/lib/python3.10/site-packages (from requests>=2.20.0->github-clone) (2023.5.7)\n",
      "Cloning into 'utils'...\n",
      "done.\n"
     ]
    }
   ],
   "source": [
    "## Utils for Matching Engine\n",
    "\n",
    "!pip install github-clone\n",
    "!ghclone https://github.com/GoogleCloudPlatform/generative-ai/tree/main/language/examples/document-qa/utils"
   ]
  },
  {
   "cell_type": "code",
   "execution_count": 28,
   "id": "f488bb63-4404-439f-badd-8fb06ffe5c15",
   "metadata": {},
   "outputs": [],
   "source": [
    "PROJECT_ID = \"analytics-ml-ai\"  # @param {type:\"string\"}\n",
    "LOCATION = \"us-central1\"  # @param {type:\"string\"}\n",
    "BUCKET_NAME = \"gs://rfpbot-stage-me\"\n",
    "GCS_BUCKET_ROOT = \"gs://rfpbot-stage-me/products/\"\n",
    "LOCAL_DIR = \"rfpbot/soc2\"\n",
    "CHUNK_SIZE = 4000\n",
    "CHUNK_OVERLAP = 100\n"
   ]
  },
  {
   "cell_type": "markdown",
   "id": "b502cdbf-b0bf-4504-82e7-b0fe6527eba7",
   "metadata": {},
   "source": [
    "### Import libraries"
   ]
  },
  {
   "cell_type": "code",
   "execution_count": 2,
   "id": "c02dd7ae-3797-432c-9eb5-6d24ed08c86a",
   "metadata": {},
   "outputs": [
    {
     "name": "stdout",
     "output_type": "stream",
     "text": [
      "LangChain version: 0.0.201\n"
     ]
    }
   ],
   "source": [
    "import uuid\n",
    "import json\n",
    "\n",
    "# Utils\n",
    "import time\n",
    "import uuid\n",
    "from typing import List\n",
    "\n",
    "import numpy as np\n",
    "\n",
    "# Vertex AI\n",
    "from google.cloud import aiplatform\n",
    "import vertexai\n",
    "\n",
    "\n",
    "# Langchain\n",
    "import langchain\n",
    "\n",
    "print(f\"LangChain version: {langchain.__version__}\")\n",
    "\n",
    "from langchain.embeddings import VertexAIEmbeddings\n",
    "from langchain.llms import VertexAI\n",
    "\n",
    "\n",
    "# Import custom Matching Engine packages\n",
    "from utils.matching_engine import MatchingEngine\n",
    "from utils.matching_engine_utils import MatchingEngineUtils"
   ]
  },
  {
   "cell_type": "code",
   "execution_count": 3,
   "id": "f6308976-582b-4a18-91cc-ca546b69af7f",
   "metadata": {},
   "outputs": [],
   "source": [
    "## FOR LOCAL FILE include complete path\n",
    "filename_url=\"../sources/GCP-[Winter-2023] GCP SOC 2..pdf\"\n",
    "\n",
    "## FOR HTTP URL OF A PDF FILE\n",
    "# filename_url=\"https://www2.ed.gov/about/reports/annual/2022report/agency-financial-report.pdf\""
   ]
  },
  {
   "cell_type": "code",
   "execution_count": 4,
   "id": "d954c131-8319-4ba9-9b55-143810041e8c",
   "metadata": {},
   "outputs": [],
   "source": [
    "all_docs = {}"
   ]
  },
  {
   "cell_type": "code",
   "execution_count": 5,
   "id": "88f92b2e-f431-4da5-b126-8c2b702769f2",
   "metadata": {},
   "outputs": [
    {
     "name": "stdout",
     "output_type": "stream",
     "text": [
      "# of pages loaded (pre-chunking) = 162\n"
     ]
    }
   ],
   "source": [
    "# Ingest PDF files\n",
    "from langchain.document_loaders import PyPDFLoader\n",
    "\n",
    "# # US Department of Education 2022 Agency Financial Report\n",
    "# urls = [\n",
    "#     \"https://www2.ed.gov/about/reports/annual/2022report/agency-financial-report.pdf\",\n",
    "#     # \"https://www2.ed.gov/about/reports/annual/2021report/agency-financial-report.pdf\"\n",
    "# ]\n",
    "documents = []\n",
    "\n",
    "# loader = PyPDFLoader(\"/sources/\"+filename)\n",
    "loader = PyPDFLoader(filename_url)\n",
    "\n",
    "documents.extend(loader.load())\n",
    "\n",
    "print(f\"# of pages loaded (pre-chunking) = {len(documents)}\")"
   ]
  },
  {
   "cell_type": "code",
   "execution_count": 6,
   "id": "93bf7788-a7e3-468d-a900-0cc8f813256b",
   "metadata": {},
   "outputs": [
    {
     "data": {
      "text/plain": [
       "Document(page_content=' \\n \\n \\n \\n \\n \\nSystem and Organization Controls (SOC) 2 Type II Report  \\nDescription of the Google Cloud Platform System  \\nFor the Period 1 March 2022 to 28 February 2023  \\nWith Independent Service Auditor’s Report  \\nIncluding Tests Performed and Results Thereof  \\n \\n  \\nryanrichard@google.comGoogle Confidental Information', metadata={'source': '../sources/GCP-[Winter-2023] GCP SOC 2..pdf', 'page': 0})"
      ]
     },
     "execution_count": 6,
     "metadata": {},
     "output_type": "execute_result"
    }
   ],
   "source": [
    "documents[0]"
   ]
  },
  {
   "cell_type": "code",
   "execution_count": 7,
   "id": "affde4a1-b112-4737-92bc-464a0691cd48",
   "metadata": {},
   "outputs": [],
   "source": [
    "all_content = []\n",
    "\n",
    "for article in documents:\n",
    "    myid = str(uuid.uuid4())\n",
    "    all_docs[myid] = {}\n",
    "    c = article.page_content.replace(\"\\n\", \"\")\n",
    "    all_docs[myid]['content'] = c\n",
    "    all_docs[myid]['url'] = article.metadata['source']"
   ]
  },
  {
   "cell_type": "code",
   "execution_count": null,
   "id": "5476551a-66fe-462f-b600-6bd94e545cb3",
   "metadata": {},
   "outputs": [],
   "source": [
    "for k, v in all_docs.items():\n",
    "    print(k)\n",
    "    print(v)\n",
    "   # break"
   ]
  },
  {
   "cell_type": "code",
   "execution_count": 54,
   "id": "a7ba86f6-8506-4cc9-a0cb-f925993d77e4",
   "metadata": {},
   "outputs": [
    {
     "name": "stdout",
     "output_type": "stream",
     "text": [
      "Updated property [core/project].\n",
      "Creating gs://rfpbot-stage/...\n",
      "ServiceException: 409 A Cloud Storage bucket named 'rfpbot-stage' already exists. Try another name. Bucket names must be globally unique across all Google Cloud projects, including those outside of your organization.\n"
     ]
    }
   ],
   "source": [
    "# Set the project id\n",
    "! gcloud config set project $PROJECT_ID\n",
    "! gsutil mb -l $LOCATION -p $PROJECT_ID $BUCKET_NAME"
   ]
  },
  {
   "cell_type": "code",
   "execution_count": 8,
   "id": "cab80a91-e025-4f73-a76c-f54cfd32ef54",
   "metadata": {},
   "outputs": [
    {
     "name": "stdout",
     "output_type": "stream",
     "text": [
      "# of documents = 162\n"
     ]
    }
   ],
   "source": [
    "from langchain.text_splitter import RecursiveCharacterTextSplitter\n",
    "\n",
    "text_splitter = RecursiveCharacterTextSplitter(chunk_size=CHUNK_SIZE, chunk_overlap=CHUNK_OVERLAP)\n",
    "doc_splits = text_splitter.split_documents(documents)\n",
    "for doc in doc_splits:\n",
    "    doc.metadata['id'] = str(uuid.uuid4()) # should we hash the URL + Heading?\n",
    "    c = doc.page_content.replace(\"\\n\", \"\")\n",
    "    doc.page_content = c\n",
    "print(f\"# of documents = {len(doc_splits)}\")"
   ]
  },
  {
   "cell_type": "code",
   "execution_count": 23,
   "id": "afda12b7-ead2-4f9c-9448-19737798f0ab",
   "metadata": {},
   "outputs": [
    {
     "data": {
      "text/plain": [
       "{'source': '../sources/GCP-[Winter-2023] GCP SOC 2..pdf',\n",
       " 'page': 0,\n",
       " 'id': '05176d42-3ca5-482b-80b0-5bd7df09a5da'}"
      ]
     },
     "execution_count": 23,
     "metadata": {},
     "output_type": "execute_result"
    }
   ],
   "source": [
    "doc_splits[0].metadata"
   ]
  },
  {
   "cell_type": "code",
   "execution_count": 17,
   "id": "e59104cc-e7ae-4da1-8330-f3d0fb9ba9f8",
   "metadata": {},
   "outputs": [
    {
     "data": {
      "text/plain": [
       "VertexAIEmbeddings(client=<vertexai.language_models._language_models._PreviewTextEmbeddingModel object at 0x7f48747660e0>, model_name='textembedding-gecko', temperature=0.0, max_output_tokens=128, top_p=0.95, top_k=40, stop=None, project=None, location='us-central1', credentials=None)"
      ]
     },
     "execution_count": 17,
     "metadata": {},
     "output_type": "execute_result"
    }
   ],
   "source": [
    "REQUESTS_PER_MINUTE = 300\n",
    "\n",
    "\n",
    "llm = VertexAI(\n",
    "    model_name='text-bison@001',\n",
    "    max_output_tokens=512,\n",
    "    temperature=0.1,\n",
    "    top_p=0.8,\n",
    "    top_k=40,\n",
    "    verbose=True,\n",
    ")\n",
    "\n",
    "# Chat instance integrated with langChain\n",
    "#chat = VertexChat()\n",
    "\n",
    "# Embeddings API integrated with langChain\n",
    "embedding = VertexAIEmbeddings(requests_per_minute=REQUESTS_PER_MINUTE)\n",
    "\n",
    "embedding"
   ]
  },
  {
   "cell_type": "code",
   "execution_count": 18,
   "id": "fb827bbb-d31b-4bdf-ad1a-4ef32d4832e9",
   "metadata": {},
   "outputs": [],
   "source": [
    "mengine = MatchingEngineUtils(PROJECT_ID, \"us-central1\", \"rfpbot_all_products_stage\")"
   ]
  },
  {
   "cell_type": "code",
   "execution_count": 19,
   "id": "72eff3dd-1e8d-445a-92c4-fd622bd35a3b",
   "metadata": {},
   "outputs": [
    {
     "name": "stdout",
     "output_type": "stream",
     "text": [
      "ME_INDEX_ID=projects/184378960328/locations/us-central1/indexes/9057504110734999552\n",
      "ME_INDEX_ENDPOINT_ID=projects/184378960328/locations/us-central1/indexEndpoints/7247057060532060160\n"
     ]
    }
   ],
   "source": [
    "ME_INDEX_ID, ME_INDEX_ENDPOINT_ID = mengine.get_index_and_endpoint()\n",
    "print(f\"ME_INDEX_ID={ME_INDEX_ID}\")\n",
    "print(f\"ME_INDEX_ENDPOINT_ID={ME_INDEX_ENDPOINT_ID}\")\n"
   ]
  },
  {
   "cell_type": "code",
   "execution_count": 29,
   "id": "b901f8f9-2320-4751-a1d2-2c93dc5c5b63",
   "metadata": {},
   "outputs": [],
   "source": [
    "# initialize vector store\n",
    "me = MatchingEngine.from_components(\n",
    "    project_id=PROJECT_ID,\n",
    "    region=LOCATION,\n",
    "    gcs_bucket_name=\"gs://rfpbot-stage-me\",\n",
    "    embedding=embedding,\n",
    "    index_id=ME_INDEX_ID,\n",
    "    endpoint_id=ME_INDEX_ENDPOINT_ID\n",
    ")"
   ]
  },
  {
   "cell_type": "code",
   "execution_count": 30,
   "id": "531f9834-ca8a-4f2a-99be-06400e4f3f49",
   "metadata": {},
   "outputs": [],
   "source": [
    "texts = [doc.page_content for doc in doc_splits]\n",
    "metadatas = [\n",
    "    [\n",
    "        {\"namespace\": \"source\", \"allow_list\": [doc.metadata[\"source\"]]},\n",
    "        # {\"namespace\": \"document_name\", \"allow_list\": [doc.metadata[\"id\"]]},\n",
    "        # {\"namespace\": \"chunk\", \"allow_list\": [str(doc.metadata[\"chunk\"])]},\n",
    "    ]\n",
    "    for doc in doc_splits\n",
    "]"
   ]
  },
  {
   "cell_type": "code",
   "execution_count": 31,
   "id": "d71cde26-0e14-4520-8ded-fd47aaae69ef",
   "metadata": {},
   "outputs": [
    {
     "name": "stderr",
     "output_type": "stream",
     "text": [
      "INFO:root:Indexed 162 documents to Matching Engine.\n"
     ]
    }
   ],
   "source": [
    "doc_ids = me.add_texts(texts=texts, metadatas=metadatas)"
   ]
  },
  {
   "cell_type": "code",
   "execution_count": 32,
   "id": "3889b85a-0c0e-44da-9d69-b7cb9de67384",
   "metadata": {},
   "outputs": [
    {
     "data": {
      "text/plain": [
       "[Document(page_content=\"Google LLC | Descri ption of the Google Cloud Platform System  15 Artificial Intelligence (AI) and Machine Learning (ML)  AI Platform Data Labeling  AI Platform Data Labeling is a service that helps developers obtain data to train and evaluate their machine learning models. It supports labeling for image, video, text, and audio as well as centralized management of labeled data.  AI Platform Neural Architecture Search (NAS)  NAS is a managed service leveraging Google's neural architecture search technology to generate, evaluate, and train numerous model architectures for a customer's application. NAS training services facilitate management of large -scale experiments.  AI Platform Training and Prediction  AI Platform Training and Prediction is a managed service that enables users to easily build machine learning models with popular frameworks like TensorFlow, XGBoost and Scikit Learn. It provides scalable training and prediction services that work on large datasets.  Anti Money Laun dering (AML) AI  AML AI is a machine learning engine which takes customer data and training labels to create a tailored model covering an extensible typology of risks for AML along with governance documentation to ease adoption in this highly regulated envi ronment.  AutoML Natural Language  AutoML Natural Language enables customers to categorize input text into their own custom defined labels (supervised classification). Users can customize models to their own domain or use case.  AutoML Tables  AutoML Tables en ables data scientists, analysts, and developers to automatically build and deploy machine learning models on structured data at increased speed and scale.  AutoML Translation  AutoML Translation is a simple and scalable translation solution that allows busin esses and developers with limited machine learning expertise to customize the Google Neural Machine Translation (GNMT) model for their own domain or use -case.  AutoML Video  AutoML Video delivers a simple and flexible machine learning service that lets busin esses and customer developers train custom and scalable video models for specific domains or use cases.  AutoML Vision  AutoML Vision is a simple and flexible machine learning service that lets businesses and developers with limited machine learning expertis e train custom and scalable vision models for their own use cases.  ryanrichard@google.comGoogle Confidental Information\", metadata={'source': '../sources/GCP-[Winter-2023] GCP SOC 2..pdf', 'score': 0.7921857237815857}),\n",
       " Document(page_content=\"Google LLC | Descri ption of the Google Cloud Platform System  17 Speaker ID  Speaker ID allows customers to enroll user voice prints and later verify users against a previously enrolled voice print.  Speech -to-Text Speech -to-Text allows developers to convert audio to text by a pplying powerful neural network models in an easy to use API.  Talent Solution  Talent Solution offers access to Google's machine learning, enabling company career sites, job boards, ATS, staffing agencies, and other recruitment technology platforms to impro ve the talent acquisition experience.  Text-to-Speech  Text-to-Speech synthesizes human -like speech based on input text in a variety of voices and languages.  Vertex AI  Vertex AI is a service for managing the entire lifecycle of AI and machine learning develo pment. With Vertex AI, one can (i) manage image, video, text, and tabular datasets and associated labels, (ii) build machine learning pipelines to train and evaluate models using Google Cloud algorithms or custom training code, and (iii) deploy models for online or batch use cases all on scalable managed infrastructure (including additional discovery points and API endpoints for functionality replacing the legacy services of AI Platform Data Labeling, AI Platform Training and Prediction, AutoML Natural Lang uage, AutoML Video, AutoML Vision, and AutoML Tables).  Video Intelligence API  Video Intelligence API makes videos searchable, and discoverable, by extracting metadata through a REST API. It annotates videos stored in Google Cloud Storage and helps identify  key noun entities in a video and when they occur within the video.  API Management  Apigee  Apigee is a full -lifecycle API management platform that lets customers design, secure, analyze, and scale APIs, giving them visibility and control. Apigee is availabl e as Apigee, a fully -managed service, Apigee hybrid, a hybrid model that's partially hosted and managed by the customer, or Apigee Private Cloud, an entirely customer hosted Premium Software solution. Apigee Private Cloud is not in scope for this report.  API Gateway  API Gateway is a fully -managed service that enables users to develop, deploy, and secure APIs running on Google Cloud Platform.   ryanrichard@google.comGoogle Confidental Information\", metadata={'source': '../sources/GCP-[Winter-2023] GCP SOC 2..pdf', 'score': 0.7387458086013794})]"
      ]
     },
     "execution_count": 32,
     "metadata": {},
     "output_type": "execute_result"
    }
   ],
   "source": [
    "# Test whether search from vector store is working\n",
    "me.similarity_search(\"AI Platform Data Labelling\", k=2)"
   ]
  }
 ],
 "metadata": {
  "environment": {
   "kernel": "python3",
   "name": "common-cpu.m109",
   "type": "gcloud",
   "uri": "gcr.io/deeplearning-platform-release/base-cpu:m109"
  },
  "kernelspec": {
   "display_name": "Python 3",
   "language": "python",
   "name": "python3"
  },
  "language_info": {
   "codemirror_mode": {
    "name": "ipython",
    "version": 3
   },
   "file_extension": ".py",
   "mimetype": "text/x-python",
   "name": "python",
   "nbconvert_exporter": "python",
   "pygments_lexer": "ipython3",
   "version": "3.10.11"
  }
 },
 "nbformat": 4,
 "nbformat_minor": 5
}
