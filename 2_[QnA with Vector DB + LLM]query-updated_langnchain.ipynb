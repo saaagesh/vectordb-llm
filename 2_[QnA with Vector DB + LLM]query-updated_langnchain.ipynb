{
 "cells": [
  {
   "cell_type": "markdown",
   "id": "c6441fcb-b334-45fd-bcdf-7dfdc55ebde5",
   "metadata": {
    "id": "c6441fcb-b334-45fd-bcdf-7dfdc55ebde5"
   },
   "source": [
    "## Import dependencies"
   ]
  },
  {
   "cell_type": "code",
   "execution_count": 36,
   "id": "ae74ff7a-8be4-4bb8-9396-8fe6702e343b",
   "metadata": {},
   "outputs": [
    {
     "name": "stdout",
     "output_type": "stream",
     "text": [
      "Vertex AI SDK version: 1.27.0\n",
      "LangChain version: 0.0.201\n"
     ]
    }
   ],
   "source": [
    "# Utils\n",
    "import uuid\n",
    "import json\n",
    "import time\n",
    "import uuid\n",
    "from typing import List\n",
    "import numpy as np\n",
    "import textwrap\n",
    "\n",
    "\n",
    "\n",
    "# Vertex AI\n",
    "import vertexai\n",
    "from google.cloud import aiplatform\n",
    "print(f\"Vertex AI SDK version: {aiplatform.__version__}\")\n",
    "\n",
    "\n",
    "\n",
    "# Langchain\n",
    "import langchain\n",
    "\n",
    "print(f\"LangChain version: {langchain.__version__}\")\n",
    "\n",
    "from langchain.embeddings import VertexAIEmbeddings\n",
    "from langchain.llms import VertexAI\n",
    "\n",
    "\n",
    "# Import custom Matching Engine packages\n",
    "from utils.matching_engine import MatchingEngine\n",
    "from utils.matching_engine_utils import MatchingEngineUtils\n",
    "\n"
   ]
  },
  {
   "cell_type": "code",
   "execution_count": 37,
   "id": "b0f24f68-f380-4332-bc9e-fbde78784112",
   "metadata": {},
   "outputs": [],
   "source": [
    "PROJECT_ID = \"analytics-ml-ai\"  # @param {type:\"string\"}\n",
    "LOCATION = \"us-central1\"  # @param {type:\"string\"}\n",
    "ME_DIMENSIONS = 768 # when using Vertex PaLM Embedding\n",
    "ME_DISPLAY_NAME = \"rfpbot_all_products_stage\"\n",
    "# ME_NAME = \"rfpbot_all_products_stage\"\n",
    "ME_DESCRIPTION = \"rfpbot across all products stage\"\n",
    "ME_EMBEDDING_DIR   = \"gs://rfpbot-stage-me\" # @param {type:\"string\"}\n",
    "GCS_BUCKET=\"gs://rfpbot-stage-me\""
   ]
  },
  {
   "cell_type": "code",
   "execution_count": 38,
   "id": "loTfn0KniwB2",
   "metadata": {
    "id": "loTfn0KniwB2"
   },
   "outputs": [],
   "source": [
    "# Authenticate with Google Cloud credentials\n",
    "# from google.colab import auth as google_auth\n",
    "# google_auth.authenticate_user()\n",
    "\n",
    "import logging\n",
    "logging.basicConfig(level = logging.INFO)\n",
    "\n",
    "import numpy as np"
   ]
  },
  {
   "cell_type": "markdown",
   "id": "4e90b46e-b372-4fa4-b99c-d148700e65b1",
   "metadata": {
    "id": "4e90b46e-b372-4fa4-b99c-d148700e65b1"
   },
   "source": [
    "## LangChain Wrappers and Utilities\n",
    "\n",
    "**Run the following cells**"
   ]
  },
  {
   "cell_type": "markdown",
   "id": "3edb33f6-1d81-4e39-a8d6-9c36644f19bb",
   "metadata": {
    "id": "3edb33f6-1d81-4e39-a8d6-9c36644f19bb"
   },
   "source": [
    "## Initializing LLMs with LangChain & Matching Engine as Vector Database"
   ]
  },
  {
   "cell_type": "code",
   "execution_count": 25,
   "id": "0c6a40cb-5981-411a-a987-744b8a280d0e",
   "metadata": {},
   "outputs": [],
   "source": [
    "mengine = MatchingEngineUtils(PROJECT_ID, LOCATION, ME_DISPLAY_NAME)"
   ]
  },
  {
   "cell_type": "code",
   "execution_count": 26,
   "id": "1aab5c2a",
   "metadata": {
    "colab": {
     "base_uri": "https://localhost:8080/"
    },
    "id": "1aab5c2a",
    "outputId": "b042adac-9f4a-4768-cccc-a90ef8bb321c"
   },
   "outputs": [
    {
     "name": "stdout",
     "output_type": "stream",
     "text": [
      "ME_INDEX_ID=projects/184378960328/locations/us-central1/indexes/9057504110734999552\n",
      "ME_INDEX_ENDPOINT_ID=projects/184378960328/locations/us-central1/indexEndpoints/7247057060532060160\n"
     ]
    }
   ],
   "source": [
    "ME_INDEX_ID, ME_INDEX_ENDPOINT_ID = mengine.get_index_and_endpoint()\n",
    "print(f\"ME_INDEX_ID={ME_INDEX_ID}\")\n",
    "print(f\"ME_INDEX_ENDPOINT_ID={ME_INDEX_ENDPOINT_ID}\")\n"
   ]
  },
  {
   "cell_type": "code",
   "execution_count": 27,
   "id": "ba100321-4bb5-48fd-9de3-eb1e27a3d88d",
   "metadata": {},
   "outputs": [
    {
     "data": {
      "text/plain": [
       "VertexAIEmbeddings(client=<vertexai.language_models._language_models._PreviewTextEmbeddingModel object at 0x7efbe0c09db0>, model_name='textembedding-gecko', temperature=0.0, max_output_tokens=128, top_p=0.95, top_k=40, stop=None, project=None, location='us-central1', credentials=None)"
      ]
     },
     "execution_count": 27,
     "metadata": {},
     "output_type": "execute_result"
    }
   ],
   "source": [
    "REQUESTS_PER_MINUTE = 300\n",
    "\n",
    "\n",
    "llm = VertexAI(\n",
    "    model_name='text-bison@001',\n",
    "    max_output_tokens=512,\n",
    "    temperature=0.1,\n",
    "    top_p=0.8,\n",
    "    top_k=40,\n",
    "    verbose=True,\n",
    ")\n",
    "\n",
    "# Chat instance integrated with langChain\n",
    "#chat = VertexChat()\n",
    "\n",
    "# Embeddings API integrated with langChain\n",
    "embedding = VertexAIEmbeddings(requests_per_minute=REQUESTS_PER_MINUTE)\n",
    "\n",
    "embedding"
   ]
  },
  {
   "cell_type": "code",
   "execution_count": 28,
   "id": "9a2c57d1-557f-4e7b-8f94-21f5ab19a106",
   "metadata": {},
   "outputs": [],
   "source": [
    "me = MatchingEngine.from_components(\n",
    "    project_id=PROJECT_ID,\n",
    "    region=LOCATION,\n",
    "    gcs_bucket_name=GCS_BUCKET,\n",
    "    embedding=embedding,\n",
    "    index_id=ME_INDEX_ID,\n",
    "    endpoint_id=ME_INDEX_ENDPOINT_ID\n",
    ")"
   ]
  },
  {
   "cell_type": "markdown",
   "id": "tOxdibZsm2ah",
   "metadata": {
    "id": "tOxdibZsm2ah"
   },
   "source": [
    "---"
   ]
  },
  {
   "cell_type": "markdown",
   "id": "FjaHbVCanMFE",
   "metadata": {
    "id": "FjaHbVCanMFE"
   },
   "source": [
    "## Question/Answering Chain\n",
    "\n",
    "LangChain provides easy ways to chain multiple tasks that can do QA over a set of documents, called QA chains. We use [**RetrievalQA**](https://python.langchain.com/en/latest/modules/chains/index_examples/vector_db_qa.html) chain actually uses **load_qa_chain** under the hood."
   ]
  },
  {
   "cell_type": "markdown",
   "id": "42a5f5d7-e2b7-4374-a934-aa9cd7d6355f",
   "metadata": {},
   "source": [
    "#### Approach # 1"
   ]
  },
  {
   "cell_type": "code",
   "execution_count": 29,
   "id": "d1d52391-32c6-447c-b782-8b7a5bdcb8ca",
   "metadata": {},
   "outputs": [],
   "source": [
    "from langchain.prompts import PromptTemplate\n",
    "from langchain.chains import RetrievalQA\n",
    "\n",
    "prompt_template = \"\"\"Use the following pieces of context to answer the question at the end. If you don't know the answer, just say that you don't know, don't try to make up an answer. Please be verbose\n",
    "\n",
    "{context}\n",
    "\n",
    "Question: {question}\n",
    "Answer:\"\"\"\n",
    "PROMPT = PromptTemplate(\n",
    "    template=prompt_template, input_variables=[\"context\", \"question\"]\n",
    ")\n",
    "\n",
    "chain_type_kwargs = {\"prompt\": PROMPT}\n",
    "qa = RetrievalQA.from_chain_type(\n",
    "    llm=llm, chain_type=\"stuff\", \n",
    "    retriever=me.as_retriever(), \n",
    "    chain_type_kwargs=chain_type_kwargs,\n",
    "    return_source_documents=True)"
   ]
  },
  {
   "cell_type": "code",
   "execution_count": 30,
   "id": "131ea77c-9c1e-4ce6-bd7e-72c52a6c6845",
   "metadata": {},
   "outputs": [
    {
     "data": {
      "text/plain": [
       "\"Google has implemented business continuity measures to maintain the availability of Google's production infrastructure and services. Google has defined the risks and recovery objectives, as input, to establish the BCP. Google has established a framework to develop and maintain business continuity, and assigned each area to the executives within respective departments. Google conducts disaster recovery testing on an annual basis to provide a coordinated venue for infrastructure and application teams to test communication plans, failover scenarios, operational transition, and other emergency responses. Teams that participate in the disaster recovery exercise develop testing plans and postmortems which document the results and lessons learned from the tests.\""
      ]
     },
     "execution_count": 30,
     "metadata": {},
     "output_type": "execute_result"
    }
   ],
   "source": [
    "query = \"describe your internal controls for backup and recovery\"\n",
    "\n",
    "result = qa({\"query\": query})\n",
    "result[\"result\"]"
   ]
  },
  {
   "cell_type": "markdown",
   "id": "8afa182a-1e5d-4575-9e15-b9d79d0bd689",
   "metadata": {},
   "source": [
    "#### Approach # 2"
   ]
  },
  {
   "cell_type": "code",
   "execution_count": 46,
   "id": "90d72079-4464-40e8-89d8-33073ab6d328",
   "metadata": {},
   "outputs": [],
   "source": [
    "# Create chain to answer questions\n",
    "NUMBER_OF_RESULTS = 10\n",
    "SEARCH_DISTANCE_THRESHOLD = 0.6\n",
    "\n",
    "# Expose index to the retriever\n",
    "retriever = me.as_retriever(\n",
    "    search_type=\"similarity\",\n",
    "    search_kwargs={\n",
    "        \"k\": NUMBER_OF_RESULTS,\n",
    "        \"search_distance\": SEARCH_DISTANCE_THRESHOLD,\n",
    "    },\n",
    ")"
   ]
  },
  {
   "cell_type": "code",
   "execution_count": 47,
   "id": "a37b7887-2a31-4425-8ab7-12a6bcaa62e9",
   "metadata": {},
   "outputs": [],
   "source": [
    "template = \"\"\"SYSTEM: You are an intelligent assistant helping the users with their questions on research papers.\n",
    "\n",
    "Question: {question}\n",
    "\n",
    "Strictly Use ONLY the following pieces of context to answer the question at the end. Think step-by-step and then answer.\n",
    "\n",
    "Do not try to make up an answer:\n",
    " - If the answer to the question cannot be determined from the context alone, say \"I cannot determine the answer to that.\"\n",
    " - If the context is empty, just say \"I do not know the answer to that.\"\n",
    "\n",
    "=============\n",
    "{context}\n",
    "=============\n",
    "\n",
    "Question: {question}\n",
    "Helpful Answer:\"\"\""
   ]
  },
  {
   "cell_type": "code",
   "execution_count": 48,
   "id": "7372ff22-07c7-4412-b564-d1c7e871ab35",
   "metadata": {},
   "outputs": [],
   "source": [
    "# Uses LLM to synthesize results from the search index.\n",
    "# Use Vertex PaLM Text API for LLM\n",
    "qa = RetrievalQA.from_chain_type(\n",
    "    llm=llm,\n",
    "    chain_type=\"stuff\",\n",
    "    retriever=retriever,\n",
    "    return_source_documents=True,\n",
    "    verbose=True,\n",
    "    chain_type_kwargs={\n",
    "        \"prompt\": PromptTemplate(\n",
    "            template=template,\n",
    "            input_variables=[\"context\", \"question\"],\n",
    "        ),\n",
    "    },\n",
    ")"
   ]
  },
  {
   "cell_type": "code",
   "execution_count": 49,
   "id": "1da9e4a3-33fc-4834-bed6-10ecdcf1680d",
   "metadata": {},
   "outputs": [],
   "source": [
    "def formatter(result):\n",
    "    print(f\"Query: {result['query']}\")\n",
    "    print(\".\" * 80)\n",
    "    if \"source_documents\" in result.keys():\n",
    "        for idx, ref in enumerate(result[\"source_documents\"]):\n",
    "            print(\"-\" * 80)\n",
    "            print(f\"REFERENCE #{idx}\")\n",
    "            print(\"-\" * 80)\n",
    "            if \"score\" in ref.metadata:\n",
    "                print(f\"Matching Score: {ref.metadata['score']}\")\n",
    "            if \"source\" in ref.metadata:\n",
    "                print(f\"Document Source: {ref.metadata['source']}\")\n",
    "            if \"document_name\" in ref.metadata:\n",
    "                print(f\"Document Name: {ref.metadata['document_name']}\")\n",
    "            print(\".\" * 80)\n",
    "            print(f\"Content: \\n{wrap(ref.page_content)}\")\n",
    "    print(\".\" * 80)\n",
    "    print(f\"Response: {wrap(result['result'])}\")\n",
    "    print(\".\" * 80)\n",
    "\n",
    "\n",
    "def wrap(s):\n",
    "    return \"\\n\".join(textwrap.wrap(s, width=120, break_long_words=False))\n",
    "\n",
    "\n",
    "def ask(query, qa=qa, k=NUMBER_OF_RESULTS, search_distance=SEARCH_DISTANCE_THRESHOLD):\n",
    "    qa.retriever.search_kwargs[\"search_distance\"] = search_distance\n",
    "    qa.retriever.search_kwargs[\"k\"] = k\n",
    "    result = qa({\"query\": query})\n",
    "    return formatter(result)"
   ]
  },
  {
   "cell_type": "code",
   "execution_count": 50,
   "id": "79ad9c28-20b4-49ea-979f-52b1fc97252d",
   "metadata": {},
   "outputs": [
    {
     "name": "stdout",
     "output_type": "stream",
     "text": [
      "\n",
      "\n",
      "\u001b[1m> Entering new  chain...\u001b[0m\n",
      "\n",
      "\u001b[1m> Finished chain.\u001b[0m\n",
      "Query: describe your internal controls for backup and recovery\n",
      "................................................................................\n",
      "--------------------------------------------------------------------------------\n",
      "REFERENCE #0\n",
      "--------------------------------------------------------------------------------\n",
      "Matching Score: 0.697128176689148\n",
      "Document Source: ../sources/GCP-[Winter-2023] GCP SOC 2..pdf\n",
      "................................................................................\n",
      "Content: \n",
      "Google LLC | Description of Criteria, Controls, Tests and Results of Tests  149 Criteria, Controls, Tests and Results of\n",
      "Tests  Control Description  SOC 2 Criteria Reference  Tests Performed by EY  Results  Inspected the documentation and\n",
      "determined BCP and Disaster Recovery (DR) were tested on interval basis or upon significant organizational or\n",
      "environmental changes.  No deviations noted.  Inspected a sample team guideline available and determined it included the\n",
      "procedures which need to be followed in an emergency.  No deviation s noted.  Inspected a sample emergency ticket and\n",
      "determined recovery activities were outlined.  No deviations noted.  125. The organization maintains business continuity\n",
      "plans to define how personnel should respond to disruptions.  CC9.1 , A1.2, A1.3 Inquired of the Program Manager and\n",
      "determined the organization maintains business continuity plans to define how personnel should respond to disruption s.\n",
      "No deviations noted.  Inspected internal websites and determined that business continuity plans were maintained and made\n",
      "available to corresponding data center teams for Google -owned and third -party data centers.  No deviations noted.\n",
      "Inspected the business continuity plans related to natural disasters, weather events, and personnel threats for a sample\n",
      "of Google -owned data centers and determined the required actions and risk mitigation activities for recovering business\n",
      "operations due to potential business disruptions were defined.  No deviations noted.  ryanrichard@google.comGoogle\n",
      "Confidental Information\n",
      "--------------------------------------------------------------------------------\n",
      "REFERENCE #1\n",
      "--------------------------------------------------------------------------------\n",
      "Matching Score: 0.6935247182846069\n",
      "Document Source: ../sources/GCP-[Winter-2023] GCP SOC 2..pdf\n",
      "................................................................................\n",
      "Content: \n",
      "Google LLC | Description of Criteria, Controls, Tests and Results of Tests  148 Criteria, Controls, Tests and Results of\n",
      "Tests  Control Description  SOC 2 Criteria Reference  Tests Performed by EY  Results  recovery  on an ongoing basis (and\n",
      "at least annually).  Inspected a sample of the functional disaster resiliency testing documentation and determined that\n",
      "it was conducted on a periodic basis and testing included communication plans, failover scenarios, operational\n",
      "transition, and other emergency responses.  No deviations noted.  Inspected testing documentation and determined that\n",
      "product teams developed testing plans and postmortems which documented the results a nd lessons learned from disaster\n",
      "resiliency testing.  No deviations noted.  124. Google has implemented business continuity measures to maintain the\n",
      "availability of Google's production infrastructure and services.  CC9.1 , A1.2, A1.3 Inquired of the Program Manager and\n",
      "determined that Google had implemented business continuity measures to maintain the availability of Google's production\n",
      "infrastructure and services.  No devia tions noted.  Inspected internal documentation and determined Google defined the\n",
      "risks and recovery objectives, as input, to establish the BCP.  No deviations noted.  Inspected the BCP document and\n",
      "other internal documentation and determined Google had established a framework to develop and maintain business\n",
      "continuity, and assigned each area to the executives within respective departments.  No deviations noted.\n",
      "ryanrichard@google.comGoogle Confidental Information\n",
      "--------------------------------------------------------------------------------\n",
      "REFERENCE #2\n",
      "--------------------------------------------------------------------------------\n",
      "Matching Score: 0.6810532808303833\n",
      "Document Source: ../sources/GCP-[Winter-2023] GCP SOC 2..pdf\n",
      "................................................................................\n",
      "Content: \n",
      "Google LLC | Description of Criteria, Controls, Tests and Results of Tests  157 Criteria to Controls Mapping  Criteria\n",
      "Controls List  Criteria  CC7.5  CC7.5  42, 107, 110, 115, 121 The entity identifies, develops, and implements activities\n",
      "to recover from identified security incidents.  CC8.1  CC8.1  31, 44, 61, 62, 96, 97, 98, 99, 115 The entity authorizes,\n",
      "designs, develops or acquires, configures, documents, tests, approves, and implements changes to infrastructure, data,\n",
      "software, and procedures to meet its objectives.  CC9.1  CC9.1  19, 123, 124, 125 The entity identifies, selects, and\n",
      "develops risk mitigation activities for risks arising from potential business disruptions.  CC9.2  CC9.2  5, 11, 12, 20,\n",
      "21, 22, 23, 24, 32 The entity assesses and manages risks associated with vendors and business partners.  A1.1 A1.1 84,\n",
      "111, 115, 118 The entity m aintains, monitors, and evaluates current processing capacity and use of system components\n",
      "(infrastructure, data, and software) to manage capacity demand and to enable the implementation of additional capacity\n",
      "to help meet its objectives.  A1.2 A1.2 79, 84, 89, 118, 123, 124, 125 The entity authorizes, designs, develops or\n",
      "acquires, implements, operates, approves, maintains, and monitors environmental protections, software, data backup\n",
      "processes, and recovery infrastructure to meet its objectives.  A1.3 A1.3 13, 110, 118, 123, 124, 125, 127 The entity\n",
      "tests recovery plan  procedures supporting system recovery to meet its objectives.  C1.1  ryanrichard@google.comGoogle\n",
      "Confidental Information\n",
      "--------------------------------------------------------------------------------\n",
      "REFERENCE #3\n",
      "--------------------------------------------------------------------------------\n",
      "Matching Score: 0.6809395551681519\n",
      "Document Source: ../sources/GCP-[Winter-2023] GCP SOC 2..pdf\n",
      "................................................................................\n",
      "Content: \n",
      "Google LLC | Descri ption of the Google Cloud Platform System  47 amongst a shared inf rastructure. For Google Cloud\n",
      "Platform, this is achieved through a Google distributed file system designed to store extremely large amounts of data\n",
      "across many servers. Structured data is then stored in large, distributed databases, built on top of this fi le system.\n",
      "The data centers are connected through multiple encrypted network links and interfaces. This provides high availability\n",
      "by dynamically load balancing across those sites. Google uses a dashboard that provides details such as resource\n",
      "footprint, c entral processing unit capacity and random -access memory availability to monitor resource availability\n",
      "across their data centers and to validate that data has been replicated to more than one location.  Disaster Recovery\n",
      "To minimize service interruption due  to hardware failure, natural disaster, or other catastrophes, Google designs its\n",
      "infrastructure and services to be resilient to failures of software, hardware or facilities. Redundant architecture and\n",
      "resources are distributed across at least two (2) geog raphically dispersed data centers to support the availability of\n",
      "services. Network connections between the data centers help ensure swift failover. Management of the data centers is\n",
      "also distributed to provide location -independent, around -the-clock coverag e and system administration.  Google’s\n",
      "Disaster Recovery program enables continuous and automated disaster readiness, response, and recovery of Google’s\n",
      "business, systems, and data. Google conducts disaster recovery testing on an annual basis to provide a c oordinated\n",
      "venue for infrastructure and application teams to test communication plans, failover scenarios, operational transition,\n",
      "and other emergency responses. Teams that participate in the disaster recovery exercise develop testing plans and post\n",
      "-mortem s which document the results and lessons learned from the tests.  F. Monitoring  Functional areas across the\n",
      "organization are accountable for designing, implementing and operating controls to reduce risk across the organization,\n",
      "and engage with management for assessing controls. Management performs periodic assessments of the control environment\n",
      "for specific areas, such as identity management, source code management and authentication infrastructure controls.\n",
      "Google plans and coordinates system s ecurity -related audits with the relevant stakeholders before conducting such\n",
      "activities in order to reduce the impact on internal and consumer users. Independent Internal Audit teams also perform\n",
      "regular audits over these areas of the control environment a nd the reports associated with the audits are made\n",
      "available to the audit committee and stakeholders. In addition, monitoring activities have been described below to\n",
      "communicate how monitoring is performed for Google Cloud Platform.  Security Monitoring  Google has implemented\n",
      "monitoring tools to detect and report security events. Antivirus, phishing detection, and antimalware/antispam tools are\n",
      "also in place to protect Google's information assets. Google also maintains security event logs for privileged acce ss,\n",
      "access to user data, authorized access attempts, and unauthorized access attempts. Logical access to security event logs\n",
      "is restricted to authorized personnel. Security event logs are monitored continuously using a Google proprietary\n",
      "Security Event Man agement (SEM) system to detect intrusion attempts and other security related events. The SEM is\n",
      "supplemented with codified logic which creates the “hunts” that trigger automated alerts to security personnel. The\n",
      "security alerts are generated for ryanrichard@google.comGoogle Confidental Information\n",
      "--------------------------------------------------------------------------------\n",
      "REFERENCE #4\n",
      "--------------------------------------------------------------------------------\n",
      "Matching Score: 0.6793258786201477\n",
      "Document Source: ../sources/GCP-[Winter-2023] GCP SOC 2..pdf\n",
      "................................................................................\n",
      "Content: \n",
      "Google LLC | Description of Criteria, Controls, Tests and Results of Tests  118 Criteria, Controls, Tests and Results of\n",
      "Tests  Control Description  SOC 2 Criteria Reference  Tests Performed by EY  Results  84. Redundant power is utilized to\n",
      "support the continued operation of critical data center equipment in the event of a loss of the primary power source(s).\n",
      "CC6.2 , A1.1, A1.2 Inquired of the Data Center Operations Manager and determined redundant power was utilized to support\n",
      "the continued operation of critical data center equipment in the event of a loss of the primary power sources.  No\n",
      "deviations noted.  Observed a sample of data centers and determined that network rooms were connected to an UPS system\n",
      "and emergency generator power was available for at least 24 hours in the event of a loss of power.  No deviations noted.\n",
      "Observed a sample of data centers and determined that data centers were equipped with redundant network connections via\n",
      "different physical connections.  No deviations noted.  Inspected maintenance records for in-scope data centers and\n",
      "observed that equipment was continuously monitored and periodically tested.  No deviations noted.  85. PII on removable\n",
      "media leaving the organization's facilities is approved and encrypted.  CC6.7  Inquired of the Program Manager and\n",
      "determined PII and SPII on removable media leaving Google facilities was approved and encrypted.  No deviations noted.\n",
      "Inspected relevant policies and determined Google outlined and communicated the process for the secure handling and\n",
      "transportation of customer data.  No deviations noted.  ryanrichard@google.comGoogle Confidental Information\n",
      "--------------------------------------------------------------------------------\n",
      "REFERENCE #5\n",
      "--------------------------------------------------------------------------------\n",
      "Matching Score: 0.6773974895477295\n",
      "Document Source: ../sources/GCP-[Winter-2023] GCP SOC 2..pdf\n",
      "................................................................................\n",
      "Content: \n",
      "Google LLC | Description of Criteria, Controls, Tests and Results of Tests  114 Criteria, Controls, Tests and Results of\n",
      "Tests  Control Description  SOC 2 Criteria Reference  Tests Performed by EY  Results  controlled areas using secure\n",
      "storage containers.  Observed a sample of data centers and determined that backup tapes were protected and controlled\n",
      "during transport outside of controlled areas using secure storage containers and that backup tapes were unmarked.  No\n",
      "deviations noted.  Inspected the relevant configuration and determined that ba ckup tapes were encrypted.  No deviations\n",
      "noted.  Inspected the relevant configuration and determined alerts were configured to generate if thresholds for\n",
      "Google's sanitization or transportation processes were exceeded.  No deviations noted.  Inspected a  sample of alerts\n",
      "and determined the alerts were appropriately generated and resolved in a timely manner.  No deviations noted.  81. Data\n",
      "center server floors, network rooms, and security systems are physically isolated from public spaces and/or delivery ar\n",
      "eas. CC6.4  Inquired of the Operations Manager and determined information systems and equipment were safeguarded against\n",
      "unauthorized entry and removal from data centers and data center server floors, network rooms, and security systems are\n",
      "physically isolated from public spaces and/or delivery areas.  No deviations noted.  ryanrichard@google.comGoogle\n",
      "Confidental Information\n",
      "--------------------------------------------------------------------------------\n",
      "REFERENCE #6\n",
      "--------------------------------------------------------------------------------\n",
      "Matching Score: 0.6760985851287842\n",
      "Document Source: ../sources/GCP-[Winter-2023] GCP SOC 2..pdf\n",
      "................................................................................\n",
      "Content: \n",
      "Google LLC | Description of Criteria, Controls, Tests and Results of Tests  150 Criteria, Controls, Tests and Results of\n",
      "Tests  Control Description  SOC 2 Criteria Reference  Tests Performed by EY  Results  Inspected the business continuity\n",
      "plans related to natural disasters, weather events, and personnel threats for a sample third -party data center and\n",
      "determined the required actions and risk mitigation activities for recovering business operations due to potential\n",
      "business disruptions were defined.  No deviations noted.  126. The organization performs privacy reviews prior to\n",
      "product launch.  C1.1 Inquired of the Program Manager and determined design documentation and privacy reviews, where\n",
      "applicable, were required to be completed prior to a product or feature launch. Any changes to customer facing services\n",
      "were communicated to relevant personnel and  impacted customers.  No deviations noted.  Inspected documentation and\n",
      "determined the organization had defined procedures and requirements for a product or feature launch.  No deviations\n",
      "noted.  Inspected a sample of launches and determined a design document and privacy review, where applicable, were\n",
      "completed prior to the launch.  No deviations noted.  Inspected a sample of official product blogs for system changes\n",
      "and determined relevant personnel and impacted customers were notified.  No dev iations noted.\n",
      "ryanrichard@google.comGoogle Confidental Information\n",
      "--------------------------------------------------------------------------------\n",
      "REFERENCE #7\n",
      "--------------------------------------------------------------------------------\n",
      "Matching Score: 0.6746746301651001\n",
      "Document Source: ../sources/GCP-[Winter-2023] GCP SOC 2..pdf\n",
      "................................................................................\n",
      "Content: \n",
      "Google LLC | Description of Criteria, Controls, Tests and Results of Tests  113 Criteria, Controls, Tests and Results of\n",
      "Tests  Control Description  SOC 2 Criteria Reference  Tests Performed by EY  Results  Observed a user attempt to gain\n",
      "remote access to a corporate machine with a device that did not have a Google issued digital certificate installed or\n",
      "without two -factor authentication and deter mined remote access to the corporate environment was denied.  No deviations\n",
      "noted.  79. Critical power and telecommunications equipment in data centers is physically protected from disruption and\n",
      "damage.  A1.2 Inquired of the Operations Manager and determined critical power and telecommunications equipment in data\n",
      "centers were physically protected from disruption and damage.  No deviations noted.  Observed a sample of data center s\n",
      "and determined that power and telecommunications equipment in data centers were physically protected from disruption and\n",
      "damage.  No deviations noted.  Observed a sample of data centers and determined that temperature and humidity of data\n",
      "halls were within the configured thresholds.  No deviations noted.  80. Storage media used for off -site redundancy are\n",
      "protected and controlled during transport outside of C1.2 Inquired of the Operations Manager and determined storage\n",
      "media used for off -site redundancy were protected and controlled during transport outside of controlled areas using\n",
      "secure storage containers.  No deviations noted.  ryanrichard@google.comGoogle Confidental Information\n",
      "--------------------------------------------------------------------------------\n",
      "REFERENCE #8\n",
      "--------------------------------------------------------------------------------\n",
      "Matching Score: 0.6744515895843506\n",
      "Document Source: ../sources/GCP-[Winter-2023] GCP SOC 2..pdf\n",
      "................................................................................\n",
      "Content: \n",
      "Google LLC | Description of Criteria, Controls, Tests and Results of Tests  133 Criteria, Controls, Tests and Results of\n",
      "Tests  Control Description  SOC 2 Criteria Reference  Tests Performed by EY  Results  Inspected the dashboards for a\n",
      "sample of in -scope applications and determined monitoring mechanisms were in place to protect the production\n",
      "environment against a variety of denial of service attacks.  No deviations noted.  104. Penetration tes ts are performed\n",
      "at least annually.  CC4.1  Inquired of the Program Manager and determined the organization performed penetration tests\n",
      "by qualified internal personnel or an external service provider at least annually.  No deviat ions noted.  Inspected\n",
      "relevant documentation and determined the organization has policies and guidelines in place for penetration tests\n",
      "performed by qualified internal personnel or an external service provider.  No deviations noted.  Inspected relevant\n",
      "documentation and determined a penetration test, which included critical infrastructure components, occurred within the\n",
      "past year and results were documented comprehensively.  No deviations noted.  Inspected the penetration test report and\n",
      "related documentation and determined that identified deficiencies were assessed, prioritized, followed up and addressed\n",
      "based on their criticality.  No deviations noted.  ryanrichard@google.comGoogle Confidental Information\n",
      "--------------------------------------------------------------------------------\n",
      "REFERENCE #9\n",
      "--------------------------------------------------------------------------------\n",
      "Matching Score: 0.6738198399543762\n",
      "Document Source: ../sources/GCP-[Winter-2023] GCP SOC 2..pdf\n",
      "................................................................................\n",
      "Content: \n",
      "Google LLC | Description of Criteria, Controls, Tests and Results of Tests  147 Criteria, Controls, Tests and Results of\n",
      "Tests  Control Description  SOC 2 Criteria Reference  Tests Performed by EY  Results  Inspected the resource monitoring\n",
      "site and determined the dashboards monitor the use of resou rces and have the capability of projecting future capacity\n",
      "requirements.  No deviations noted.  Inspected a sample of automated notifications related to critical resource capacity\n",
      "utilization and determined alerts were appropriately set.  No deviations noted.  122. Teams within the organization\n",
      "document standard operating procedures and make them available to authorized personnel.  CC2.1  Inquired of the Program\n",
      "Manager and determined that teams within the organizat ion document standard operating procedures and make them\n",
      "available to authorized personnel.  No deviations noted.  Inspected internal team handbooks for a sample Google Cloud\n",
      "Platform product team and determined that documented standard operating procedures were in place and available to\n",
      "authorized personnel.  No deviations noted.  123. The organization conducts disaster resiliency testing (DiRT) which\n",
      "covers reliability, survivability, and CC9.1 , A1.2, A1.3 Inquired of the Program Manager and determined that the\n",
      "organization conducted disaster resiliency testing (DiRT) which covered reliability, survivability,  and recovery on an\n",
      "ongoing basis (and at least annually).  No deviations noted.  ryanrichard@google.comGoogle Confidental Information\n",
      "................................................................................\n",
      "Response: Google has implemented a number of internal controls for backup and recovery. These controls include:  * Redundant\n",
      "architecture and resources are distributed across at least two (2) geographically dispersed data centers to support the\n",
      "availability of services. * Network connections between the data centers help ensure swift failover. * Management of the\n",
      "data centers is also distributed to provide location-independent, around-the-clock coverage and system administration. *\n",
      "Google conducts disaster recovery testing on an annual basis to provide a coordinated venue for infrastructure and\n",
      "application teams to test communication plans, failover scenarios, operational transition, and other emergency\n",
      "responses. * Teams that participate in the disaster recovery exercise develop testing plans and postmortems which\n",
      "document the results and lessons learned from the tests.\n",
      "................................................................................\n"
     ]
    }
   ],
   "source": [
    "ask(\"describe your internal controls for backup and recovery\")"
   ]
  }
 ],
 "metadata": {
  "colab": {
   "provenance": []
  },
  "environment": {
   "kernel": "python3",
   "name": "common-cpu.m109",
   "type": "gcloud",
   "uri": "gcr.io/deeplearning-platform-release/base-cpu:m109"
  },
  "gpuClass": "standard",
  "kernelspec": {
   "display_name": "Python 3",
   "language": "python",
   "name": "python3"
  },
  "language_info": {
   "codemirror_mode": {
    "name": "ipython",
    "version": 3
   },
   "file_extension": ".py",
   "mimetype": "text/x-python",
   "name": "python",
   "nbconvert_exporter": "python",
   "pygments_lexer": "ipython3",
   "version": "3.10.11"
  }
 },
 "nbformat": 4,
 "nbformat_minor": 5
}
